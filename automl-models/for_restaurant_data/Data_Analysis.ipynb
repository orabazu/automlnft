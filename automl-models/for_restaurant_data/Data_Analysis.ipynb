{
 "cells": [
  {
   "cell_type": "code",
   "execution_count": 1,
   "metadata": {},
   "outputs": [],
   "source": [
    "#Importing the libraries to be used.\n",
    "#Importing pandas library.\n",
    "import pandas as pd\n",
    "#Importing numpy library.\n",
    "import numpy as np\n",
    "#Importing seaborn library.\n",
    "import seaborn as sns \n",
    "#Importing pandas library.\n",
    "import matplotlib.pyplot as plt \n",
    "#Importing Counter library.\n",
    "from collections import Counter \n",
    "#Importing display and HTML library.\n",
    "from IPython.display import display, HTML \n",
    "#Importing missingo library.\n",
    "import missingno \n",
    "#Importing preprocessing library from sklearn.\n",
    "from sklearn import preprocessing \n",
    "#Importing regular expression operations library.\n",
    "import re \n",
    "\n",
    "#Importing warnings library.\n",
    "import warnings \n",
    "warnings.filterwarnings(\"ignore\")"
   ]
  },
  {
   "cell_type": "code",
   "execution_count": 2,
   "metadata": {},
   "outputs": [],
   "source": [
    "class color:\n",
    "   PURPLE = '\\033[95m'\n",
    "   CYAN = '\\033[96m'\n",
    "   DARKCYAN = '\\033[36m'\n",
    "   BLUE = '\\033[94m'\n",
    "   GREEN = '\\033[92m'\n",
    "   YELLOW = '\\033[93m'\n",
    "   RED = '\\033[91m'\n",
    "   BOLD = '\\033[1m'\n",
    "   UNDERLINE = '\\033[4m'\n",
    "   END = '\\033[0m'"
   ]
  },
  {
   "cell_type": "code",
   "execution_count": 3,
   "metadata": {},
   "outputs": [],
   "source": [
    "class readContants():\n",
    "    constants_ = {}\n",
    "    def __init__(self):\n",
    "        super().__init__()        \n",
    "         # open second page as next page\n",
    "        import csv\n",
    "        reader = csv.reader(open('constantsForIpynb.csv', 'r'))        \n",
    "        for row in reader:\n",
    "            k, v = row\n",
    "            k=k+\"\"\n",
    "            v=v+\"\"            \n",
    "            self.constants_[str(k)] = str(v)        \n",
    "    def getConstValue(self,const_name):\n",
    "        return self.constants_[const_name]"
   ]
  },
  {
   "cell_type": "code",
   "execution_count": 4,
   "metadata": {},
   "outputs": [],
   "source": [
    "const__ = readContants()"
   ]
  },
  {
   "cell_type": "code",
   "execution_count": 5,
   "metadata": {},
   "outputs": [],
   "source": [
    "#Reading titles from the messages.csv file.\n",
    "messages = pd.read_csv(const__.getConstValue(\"MESSAGES_FILE_NAME\"))"
   ]
  },
  {
   "cell_type": "code",
   "execution_count": 6,
   "metadata": {},
   "outputs": [],
   "source": [
    "def getMessageFromMessageCsv(index):\n",
    "    return messages[\"Message\"][index]"
   ]
  },
  {
   "cell_type": "code",
   "execution_count": 7,
   "metadata": {},
   "outputs": [],
   "source": [
    "def printTitle(titleId):\n",
    "    print(getMessageFromMessageCsv(titleId))\n",
    "def printBoldTitle(titleId):\n",
    "    print(color.BOLD + getMessageFromMessageCsv(titleId))    "
   ]
  },
  {
   "cell_type": "code",
   "execution_count": 8,
   "metadata": {},
   "outputs": [
    {
     "name": "stdout",
     "output_type": "stream",
     "text": [
      "\u001b[1mData Fields and Types\n"
     ]
    }
   ],
   "source": [
    "#Printing zeroth message as a h1 title in html code.\n",
    "printBoldTitle(60)"
   ]
  },
  {
   "cell_type": "code",
   "execution_count": 9,
   "metadata": {},
   "outputs": [],
   "source": [
    "class DataInfo:\n",
    "    attrname = []\n",
    "    attrtype = []\n",
    "    factororresponse = []\n",
    "    noOfAttributes = 0\n",
    "    attribute_datas = []\n",
    "    \n",
    "    def __init__(self):\n",
    "        self.attribute_datas = pd.read_csv(const__.getConstValue(\"DATA_INFO_FILE_PATH\"))         \n",
    "        self.setAttributeName(self.attribute_datas.attrname)\n",
    "        self.setAttributeType(self.attribute_datas.attrtype)\n",
    "        self.setFactorOrResponse(self.attribute_datas.factororresponse)\n",
    "        self.getNoOfAttributes(list(self.attribute_datas.columns))\n",
    "        \n",
    "    def setAttributeName(self,attributeName):\n",
    "         self.attrname = attributeName\n",
    "    \n",
    "    def setAttributeType(self,attributeType):\n",
    "         self.attrtype = attributeType\n",
    "    \n",
    "    def setFactorOrResponse(self,factorOrResponse):\n",
    "         self.factororresponse = factorOrResponse\n",
    "    \n",
    "    def getNoOfAttributes(self,columns):        \n",
    "        for col in columns:\n",
    "            if col != \"attrname\" and col != \"attrtype\" and col != \"factororresponse\":\n",
    "                self.noOfAttributes = self.noOfAttributes + 1\n",
    "            \n",
    "datainfo = DataInfo()    "
   ]
  },
  {
   "cell_type": "code",
   "execution_count": 10,
   "metadata": {
    "scrolled": true
   },
   "outputs": [
    {
     "data": {
      "text/html": [
       "<div>\n",
       "<style scoped>\n",
       "    .dataframe tbody tr th:only-of-type {\n",
       "        vertical-align: middle;\n",
       "    }\n",
       "\n",
       "    .dataframe tbody tr th {\n",
       "        vertical-align: top;\n",
       "    }\n",
       "\n",
       "    .dataframe thead th {\n",
       "        text-align: right;\n",
       "    }\n",
       "</style>\n",
       "<table border=\"1\" class=\"dataframe\">\n",
       "  <thead>\n",
       "    <tr style=\"text-align: right;\">\n",
       "      <th></th>\n",
       "      <th>attrname</th>\n",
       "      <th>attrtype</th>\n",
       "      <th>factororresponse</th>\n",
       "    </tr>\n",
       "  </thead>\n",
       "  <tbody>\n",
       "    <tr>\n",
       "      <th>0</th>\n",
       "      <td>SepalLength</td>\n",
       "      <td>numeric</td>\n",
       "      <td>factor</td>\n",
       "    </tr>\n",
       "    <tr>\n",
       "      <th>1</th>\n",
       "      <td>SepalWidth</td>\n",
       "      <td>numeric</td>\n",
       "      <td>factor</td>\n",
       "    </tr>\n",
       "    <tr>\n",
       "      <th>2</th>\n",
       "      <td>PetalLength</td>\n",
       "      <td>numeric</td>\n",
       "      <td>factor</td>\n",
       "    </tr>\n",
       "    <tr>\n",
       "      <th>3</th>\n",
       "      <td>PetalWidth</td>\n",
       "      <td>numeric</td>\n",
       "      <td>factor</td>\n",
       "    </tr>\n",
       "    <tr>\n",
       "      <th>4</th>\n",
       "      <td>IrisClass</td>\n",
       "      <td>nominal</td>\n",
       "      <td>response</td>\n",
       "    </tr>\n",
       "  </tbody>\n",
       "</table>\n",
       "</div>"
      ],
      "text/plain": [
       "      attrname attrtype factororresponse\n",
       "0  SepalLength  numeric           factor\n",
       "1   SepalWidth  numeric           factor\n",
       "2  PetalLength  numeric           factor\n",
       "3   PetalWidth  numeric           factor\n",
       "4    IrisClass  nominal         response"
      ]
     },
     "metadata": {},
     "output_type": "display_data"
    },
    {
     "name": "stdout",
     "output_type": "stream",
     "text": [
      "attribute_datas None\n"
     ]
    }
   ],
   "source": [
    "#Reading the information of the data set in the datainfo.csv file.\n",
    "#attribute_datas = pd.read_csv(const_.getConstValue(\"DATA_INFO_FILE_PATH\")) \n",
    "#Printing attribute_datas values using display library.\n",
    "print(\"attribute_datas\",display(datainfo.attribute_datas)) "
   ]
  },
  {
   "cell_type": "code",
   "execution_count": 11,
   "metadata": {},
   "outputs": [],
   "source": [
    "class DataInfoAttribute(object):\n",
    "    response_attributes  = []\n",
    "    \n",
    "    non_factor_attributes = []\n",
    "    non_factor_attributesname = []\n",
    "    \n",
    "    factor_attributes = []\n",
    "    factor_attributesname = []\n",
    "    \n",
    "    nominal_attributes = []\n",
    "    numeric_attributes = []    \n",
    "    binary_attributes = []\n",
    "    \n",
    "    \n",
    "    def __init__(self):\n",
    "        pass"
   ]
  },
  {
   "cell_type": "code",
   "execution_count": 12,
   "metadata": {},
   "outputs": [],
   "source": [
    "class AdditionDataInfo:     \n",
    "    factor_attributes = []\n",
    "    attribute_datas = []\n",
    "    dataInfo = DataInfoAttribute()\n",
    "    # parameterized constructor\n",
    "    def __init__(self):\n",
    "        #self.attribute_datas= attribute_datas\n",
    "        self.get_response_attributes()\n",
    "        self.get_non_factor_attributes()\n",
    "        self.get_factor_attributes()\n",
    "        self.get_nominal_attributes()\n",
    "        self.get_numeric_attributes()\n",
    "        self.get_non_factor_attributes()\n",
    "        self.get_binary_attributes()\n",
    "        \n",
    "    def get_response_attributes(self):\n",
    "        response_attributes = datainfo.attribute_datas[(datainfo.factororresponse==\"response\") | (datainfo.factororresponse==\"target\")][\"attrname\"].values[0]        \n",
    "        #print(\"response_attributes: \",response_attributes) \n",
    "        DataInfoAttribute.response_attributes = response_attributes\n",
    "    \n",
    "    def get_non_factor_attributes(self):\n",
    "        non_factor_attributes = datainfo.attribute_datas[(datainfo.factororresponse!=\"factor\") & (datainfo.factororresponse!=\"attribute\") & (datainfo.factororresponse!=\"response\") &  (datainfo.factororresponse!=\"target\") ] \n",
    "        #print(\"response_attributes: \",non_factor_attributes) \n",
    "        DataInfoAttribute.non_factor_attributesname = non_factor_attributes[\"attrname\"].values\n",
    "        DataInfoAttribute.non_factor_attributes = non_factor_attributes\n",
    "        \n",
    "    def get_factor_attributes(self):\n",
    "        self.factor_attributes = datainfo.attribute_datas[(datainfo.factororresponse==\"factor\") | (datainfo.factororresponse==\"attribute\")]\n",
    "        #print(\"response_attributes: \",non_factor_attributes) \n",
    "        DataInfoAttribute.factor_attributesname = self.factor_attributes[\"attrname\"].values\n",
    "        DataInfoAttribute.factor_attributes = self.factor_attributes\n",
    "    \n",
    "    def get_nominal_attributes(self):\n",
    "        nominal_attributes = datainfo.attribute_datas[(datainfo.attrtype == \"nominal\") | (datainfo.attrtype == \"categorical\")][\"attrname\"].values         \n",
    "        #print(\"response_attributes: \",response_attributes) \n",
    "        DataInfoAttribute.nominal_attributes = nominal_attributes\n",
    "        \n",
    "    def get_numeric_attributes(self):\n",
    "        numeric_attributes = self.factor_attributes[(datainfo.attrtype == \"numeric\") | (datainfo.attrtype == \"numerical\")][\"attrname\"].values\n",
    "        #print(\"response_attributes: \",response_attributes) \n",
    "        DataInfoAttribute.numeric_attributes = numeric_attributes\n",
    "        \n",
    "    def get_binary_attributes(self):\n",
    "        binary_attributes = self.factor_attributes[datainfo.attrtype == \"binary\"][\"attrname\"].values\n",
    "        #print(\"response_attributes: \",response_attributes) \n",
    "        DataInfoAttribute.binary_attributes = binary_attributes\n",
    "    \n",
    " \n",
    "    def getDataInfoObject(self):\n",
    "        return self.dataInfo\n",
    "    \n",
    "# this will invoke parameterized constructor\n",
    "obj = AdditionDataInfo()\n",
    "\n",
    "# display result\n",
    "datainfo_attr_type_obj = obj.getDataInfoObject()"
   ]
  },
  {
   "cell_type": "code",
   "execution_count": 13,
   "metadata": {},
   "outputs": [
    {
     "name": "stdout",
     "output_type": "stream",
     "text": [
      "Getting a Response Column\n"
     ]
    }
   ],
   "source": [
    "#Printing second message as a h1 title in html code.\n",
    "printTitle(2)"
   ]
  },
  {
   "cell_type": "code",
   "execution_count": 14,
   "metadata": {},
   "outputs": [
    {
     "name": "stdout",
     "output_type": "stream",
     "text": [
      "response_attributes:  IrisClass\n"
     ]
    }
   ],
   "source": [
    "response_attributes = datainfo_attr_type_obj.response_attributes\n",
    "print(\"response_attributes: \",response_attributes) "
   ]
  },
  {
   "cell_type": "code",
   "execution_count": 15,
   "metadata": {},
   "outputs": [
    {
     "name": "stdout",
     "output_type": "stream",
     "text": [
      "Getting a Non-Factor Column\n"
     ]
    }
   ],
   "source": [
    "#Printing third message as a h1 title in html code.\n",
    "printTitle(3)"
   ]
  },
  {
   "cell_type": "code",
   "execution_count": 16,
   "metadata": {},
   "outputs": [
    {
     "name": "stdout",
     "output_type": "stream",
     "text": [
      "non_factor_attributesname:  []\n"
     ]
    }
   ],
   "source": [
    "non_factor_attributesname = datainfo_attr_type_obj.non_factor_attributesname\n",
    "#Printing non_factor_attributesname values.\n",
    "print(\"non_factor_attributesname: \",non_factor_attributesname) "
   ]
  },
  {
   "cell_type": "code",
   "execution_count": 17,
   "metadata": {},
   "outputs": [
    {
     "name": "stdout",
     "output_type": "stream",
     "text": [
      "Getting a Factor Column\n"
     ]
    }
   ],
   "source": [
    "#Printing fourth message as a h1 title in html code.\n",
    "printTitle(4)"
   ]
  },
  {
   "cell_type": "code",
   "execution_count": 18,
   "metadata": {},
   "outputs": [
    {
     "name": "stdout",
     "output_type": "stream",
     "text": [
      "factor_attributesname:  ['SepalLength' 'SepalWidth' 'PetalLength' 'PetalWidth']\n"
     ]
    }
   ],
   "source": [
    "factor_attributesname = datainfo_attr_type_obj.factor_attributesname\n",
    "#Printing non_factor_attributesname values.\n",
    "print(\"factor_attributesname: \",factor_attributesname) "
   ]
  },
  {
   "cell_type": "code",
   "execution_count": 19,
   "metadata": {},
   "outputs": [
    {
     "name": "stdout",
     "output_type": "stream",
     "text": [
      "Getting a Nominal Type Column\n"
     ]
    }
   ],
   "source": [
    "#Printing fifth message as a h1 title in html code.\n",
    "printTitle(5)"
   ]
  },
  {
   "cell_type": "code",
   "execution_count": 20,
   "metadata": {},
   "outputs": [
    {
     "name": "stdout",
     "output_type": "stream",
     "text": [
      "nominal_attributes:  ['IrisClass']\n"
     ]
    }
   ],
   "source": [
    "nominal_attributes = datainfo_attr_type_obj.nominal_attributes\n",
    "#Printing nominal_attributes values.\n",
    "print(\"nominal_attributes: \",nominal_attributes)"
   ]
  },
  {
   "cell_type": "code",
   "execution_count": 21,
   "metadata": {},
   "outputs": [
    {
     "name": "stdout",
     "output_type": "stream",
     "text": [
      "Getting a Numeric Type Column\n"
     ]
    }
   ],
   "source": [
    "#Printing sixth message as a h1 title in html code.\n",
    "printTitle(6)"
   ]
  },
  {
   "cell_type": "code",
   "execution_count": 22,
   "metadata": {},
   "outputs": [
    {
     "name": "stdout",
     "output_type": "stream",
     "text": [
      "numeric_attributes:  ['SepalLength' 'SepalWidth' 'PetalLength' 'PetalWidth']\n"
     ]
    }
   ],
   "source": [
    "#Assigning the features whose attribute value is numeric.\n",
    "numeric_attributes = datainfo_attr_type_obj.numeric_attributes\n",
    "#print numeric_attributes values.\n",
    "print(\"numeric_attributes: \",numeric_attributes)"
   ]
  },
  {
   "cell_type": "code",
   "execution_count": 23,
   "metadata": {},
   "outputs": [
    {
     "name": "stdout",
     "output_type": "stream",
     "text": [
      "Getting a Binary Type Column\n"
     ]
    }
   ],
   "source": [
    "#Printing seventh message as a h1 title in html code.\n",
    "printTitle(7)"
   ]
  },
  {
   "cell_type": "code",
   "execution_count": 24,
   "metadata": {},
   "outputs": [
    {
     "name": "stdout",
     "output_type": "stream",
     "text": [
      "binary_attributes:  []\n"
     ]
    }
   ],
   "source": [
    "#Assigning the features whose attribute value is binary.\n",
    "binary_attributes = datainfo_attr_type_obj.binary_attributes \n",
    "#print binary_attributes values.\n",
    "print(\"binary_attributes: \",binary_attributes)"
   ]
  },
  {
   "cell_type": "code",
   "execution_count": 25,
   "metadata": {},
   "outputs": [
    {
     "name": "stdout",
     "output_type": "stream",
     "text": [
      "\u001b[1mSample Data\n"
     ]
    }
   ],
   "source": [
    "#Printing eighth message as a h1 title in html code.\n",
    "printBoldTitle(61)"
   ]
  },
  {
   "cell_type": "code",
   "execution_count": 26,
   "metadata": {},
   "outputs": [],
   "source": [
    "#Loading our dataset in the dataset.xlsx file.\n",
    "data = pd.read_excel(const__.getConstValue(\"DATASET_FILE_PATH\"))"
   ]
  },
  {
   "cell_type": "code",
   "execution_count": 27,
   "metadata": {},
   "outputs": [],
   "source": [
    "#Stripping the spaces in the attribute name in our dataset.\n",
    "data.rename(columns = lambda x: x.strip(), inplace=True)"
   ]
  },
  {
   "cell_type": "code",
   "execution_count": 28,
   "metadata": {},
   "outputs": [],
   "source": [
    "#We convert the empty or unnecessary values in our dataset to the np.nan value.\n",
    "#It will be easy to read.\n",
    "for col in data.columns:\n",
    "    \n",
    "    data[col].replace([\"?\",\" \",\"\",\"NA\",'NA'],np.nan,inplace=True)"
   ]
  },
  {
   "cell_type": "code",
   "execution_count": 29,
   "metadata": {},
   "outputs": [
    {
     "data": {
      "text/html": [
       "<div>\n",
       "<style scoped>\n",
       "    .dataframe tbody tr th:only-of-type {\n",
       "        vertical-align: middle;\n",
       "    }\n",
       "\n",
       "    .dataframe tbody tr th {\n",
       "        vertical-align: top;\n",
       "    }\n",
       "\n",
       "    .dataframe thead th {\n",
       "        text-align: right;\n",
       "    }\n",
       "</style>\n",
       "<table border=\"1\" class=\"dataframe\">\n",
       "  <thead>\n",
       "    <tr style=\"text-align: right;\">\n",
       "      <th></th>\n",
       "      <th>SepalLength</th>\n",
       "      <th>SepalWidth</th>\n",
       "      <th>PetalLength</th>\n",
       "      <th>PetalWidth</th>\n",
       "      <th>IrisClass</th>\n",
       "    </tr>\n",
       "  </thead>\n",
       "  <tbody>\n",
       "    <tr>\n",
       "      <th>0</th>\n",
       "      <td>5.1</td>\n",
       "      <td>3.5</td>\n",
       "      <td>1.4</td>\n",
       "      <td>0.2</td>\n",
       "      <td>Iris-setosa</td>\n",
       "    </tr>\n",
       "    <tr>\n",
       "      <th>1</th>\n",
       "      <td>4.9</td>\n",
       "      <td>3.0</td>\n",
       "      <td>1.4</td>\n",
       "      <td>0.2</td>\n",
       "      <td>Iris-setosa</td>\n",
       "    </tr>\n",
       "    <tr>\n",
       "      <th>2</th>\n",
       "      <td>4.7</td>\n",
       "      <td>3.2</td>\n",
       "      <td>1.3</td>\n",
       "      <td>0.2</td>\n",
       "      <td>Iris-setosa</td>\n",
       "    </tr>\n",
       "    <tr>\n",
       "      <th>3</th>\n",
       "      <td>4.6</td>\n",
       "      <td>3.1</td>\n",
       "      <td>1.5</td>\n",
       "      <td>0.2</td>\n",
       "      <td>Iris-setosa</td>\n",
       "    </tr>\n",
       "    <tr>\n",
       "      <th>4</th>\n",
       "      <td>5.0</td>\n",
       "      <td>3.6</td>\n",
       "      <td>1.4</td>\n",
       "      <td>0.2</td>\n",
       "      <td>Iris-setosa</td>\n",
       "    </tr>\n",
       "  </tbody>\n",
       "</table>\n",
       "</div>"
      ],
      "text/plain": [
       "   SepalLength  SepalWidth  PetalLength  PetalWidth    IrisClass\n",
       "0          5.1         3.5          1.4         0.2  Iris-setosa\n",
       "1          4.9         3.0          1.4         0.2  Iris-setosa\n",
       "2          4.7         3.2          1.3         0.2  Iris-setosa\n",
       "3          4.6         3.1          1.5         0.2  Iris-setosa\n",
       "4          5.0         3.6          1.4         0.2  Iris-setosa"
      ]
     },
     "metadata": {},
     "output_type": "display_data"
    },
    {
     "name": "stdout",
     "output_type": "stream",
     "text": [
      "data head None\n"
     ]
    }
   ],
   "source": [
    "#Printing data's head values using display library\n",
    "print(\"data head\",display(data.head()))"
   ]
  },
  {
   "cell_type": "code",
   "execution_count": 30,
   "metadata": {},
   "outputs": [
    {
     "name": "stdout",
     "output_type": "stream",
     "text": [
      "Data Columns\n"
     ]
    }
   ],
   "source": [
    "#Printing ninth message as a h1 title in html code.\n",
    "printTitle(9)"
   ]
  },
  {
   "cell_type": "code",
   "execution_count": 31,
   "metadata": {},
   "outputs": [
    {
     "name": "stdout",
     "output_type": "stream",
     "text": [
      "data columns:  Index(['SepalLength', 'SepalWidth', 'PetalLength', 'PetalWidth', 'IrisClass'], dtype='object')\n"
     ]
    }
   ],
   "source": [
    "#Printing the columns of our dataset.\n",
    "print(\"data columns: \",data.columns)"
   ]
  },
  {
   "cell_type": "code",
   "execution_count": 32,
   "metadata": {},
   "outputs": [
    {
     "name": "stdout",
     "output_type": "stream",
     "text": [
      "\u001b[1mSummary Statistics\n"
     ]
    }
   ],
   "source": [
    "#Printing tenth message as a h1 title in html code.\n",
    "printBoldTitle(62)"
   ]
  },
  {
   "cell_type": "code",
   "execution_count": 33,
   "metadata": {},
   "outputs": [],
   "source": [
    "#Examining the information about our dataset by printing the info values.\n",
    "#print(\"data info: \",data.info(null_counts=False))"
   ]
  },
  {
   "cell_type": "code",
   "execution_count": 34,
   "metadata": {},
   "outputs": [
    {
     "name": "stdout",
     "output_type": "stream",
     "text": [
      "Data Describe\n"
     ]
    }
   ],
   "source": [
    "#Printing eleventh message as a h1 title in html code. \n",
    "printTitle(11)"
   ]
  },
  {
   "cell_type": "code",
   "execution_count": 35,
   "metadata": {},
   "outputs": [
    {
     "data": {
      "text/html": [
       "<div>\n",
       "<style scoped>\n",
       "    .dataframe tbody tr th:only-of-type {\n",
       "        vertical-align: middle;\n",
       "    }\n",
       "\n",
       "    .dataframe tbody tr th {\n",
       "        vertical-align: top;\n",
       "    }\n",
       "\n",
       "    .dataframe thead th {\n",
       "        text-align: right;\n",
       "    }\n",
       "</style>\n",
       "<table border=\"1\" class=\"dataframe\">\n",
       "  <thead>\n",
       "    <tr style=\"text-align: right;\">\n",
       "      <th></th>\n",
       "      <th>count</th>\n",
       "      <th>mean</th>\n",
       "      <th>std</th>\n",
       "      <th>min</th>\n",
       "      <th>25%</th>\n",
       "      <th>50%</th>\n",
       "      <th>75%</th>\n",
       "      <th>max</th>\n",
       "    </tr>\n",
       "  </thead>\n",
       "  <tbody>\n",
       "    <tr>\n",
       "      <th>SepalLength</th>\n",
       "      <td>150.0</td>\n",
       "      <td>5.843333</td>\n",
       "      <td>0.828066</td>\n",
       "      <td>4.3</td>\n",
       "      <td>5.1</td>\n",
       "      <td>5.80</td>\n",
       "      <td>6.4</td>\n",
       "      <td>7.9</td>\n",
       "    </tr>\n",
       "    <tr>\n",
       "      <th>SepalWidth</th>\n",
       "      <td>150.0</td>\n",
       "      <td>3.054000</td>\n",
       "      <td>0.433594</td>\n",
       "      <td>2.0</td>\n",
       "      <td>2.8</td>\n",
       "      <td>3.00</td>\n",
       "      <td>3.3</td>\n",
       "      <td>4.4</td>\n",
       "    </tr>\n",
       "    <tr>\n",
       "      <th>PetalLength</th>\n",
       "      <td>150.0</td>\n",
       "      <td>3.758667</td>\n",
       "      <td>1.764420</td>\n",
       "      <td>1.0</td>\n",
       "      <td>1.6</td>\n",
       "      <td>4.35</td>\n",
       "      <td>5.1</td>\n",
       "      <td>6.9</td>\n",
       "    </tr>\n",
       "    <tr>\n",
       "      <th>PetalWidth</th>\n",
       "      <td>150.0</td>\n",
       "      <td>1.198667</td>\n",
       "      <td>0.763161</td>\n",
       "      <td>0.1</td>\n",
       "      <td>0.3</td>\n",
       "      <td>1.30</td>\n",
       "      <td>1.8</td>\n",
       "      <td>2.5</td>\n",
       "    </tr>\n",
       "  </tbody>\n",
       "</table>\n",
       "</div>"
      ],
      "text/plain": [
       "             count      mean       std  min  25%   50%  75%  max\n",
       "SepalLength  150.0  5.843333  0.828066  4.3  5.1  5.80  6.4  7.9\n",
       "SepalWidth   150.0  3.054000  0.433594  2.0  2.8  3.00  3.3  4.4\n",
       "PetalLength  150.0  3.758667  1.764420  1.0  1.6  4.35  5.1  6.9\n",
       "PetalWidth   150.0  1.198667  0.763161  0.1  0.3  1.30  1.8  2.5"
      ]
     },
     "metadata": {},
     "output_type": "display_data"
    },
    {
     "name": "stdout",
     "output_type": "stream",
     "text": [
      "data.describe None\n"
     ]
    }
   ],
   "source": [
    "#We observe the statistical values of numeric values using display library by print data describe.\n",
    "print(\"data.describe\",display(data.describe().T))"
   ]
  },
  {
   "cell_type": "code",
   "execution_count": 36,
   "metadata": {},
   "outputs": [
    {
     "name": "stdout",
     "output_type": "stream",
     "text": [
      "\u001b[1mData Count and Values\n"
     ]
    }
   ],
   "source": [
    "#Printing eleventh message as a h1 title in html code. \n",
    "printBoldTitle(63)"
   ]
  },
  {
   "cell_type": "code",
   "execution_count": 37,
   "metadata": {},
   "outputs": [
    {
     "name": "stdout",
     "output_type": "stream",
     "text": [
      "data count:\n",
      " SepalLength    150\n",
      "SepalWidth     150\n",
      "PetalLength    150\n",
      "PetalWidth     150\n",
      "IrisClass      150\n",
      "dtype: int64\n"
     ]
    }
   ],
   "source": [
    "#Applying the count operation for each attribute in our dataset.\n",
    "print(\"data count:\\n\",data.count())"
   ]
  },
  {
   "cell_type": "code",
   "execution_count": 38,
   "metadata": {},
   "outputs": [
    {
     "name": "stdout",
     "output_type": "stream",
     "text": [
      "Data Shape\n"
     ]
    }
   ],
   "source": [
    "#Printing twelfth message as a h1 title in html code.\n",
    "printTitle(12)"
   ]
  },
  {
   "cell_type": "code",
   "execution_count": 39,
   "metadata": {},
   "outputs": [
    {
     "name": "stdout",
     "output_type": "stream",
     "text": [
      "data shape (150, 5)\n"
     ]
    }
   ],
   "source": [
    "#Printing the number of columns and rows of our dataset.\n",
    "print(\"data shape\",data.shape)"
   ]
  },
  {
   "cell_type": "code",
   "execution_count": 40,
   "metadata": {},
   "outputs": [
    {
     "name": "stdout",
     "output_type": "stream",
     "text": [
      "Displaying Counted Unique Values of Nominal Attributes\n"
     ]
    }
   ],
   "source": [
    "#Printing fifty-fifth message as a h1 title in html code.\n",
    "printTitle(13)"
   ]
  },
  {
   "cell_type": "code",
   "execution_count": 41,
   "metadata": {},
   "outputs": [
    {
     "name": "stdout",
     "output_type": "stream",
     "text": [
      "Column > IrisClass < unique values\n",
      "\n",
      "['Iris-setosa' 'Iris-versicolor' 'Iris-virginica']\n",
      "\n",
      "Column > IrisClass < unique values count:3\n"
     ]
    }
   ],
   "source": [
    "#Finding the unique values by applying the count operation to the nominal attribute values of our dataset.\n",
    "for col in nominal_attributes:\n",
    "    #Printing nominal column\n",
    "    print(\"Column > {} < unique values\\n\".format(col))\n",
    "    #Printing unique values name in nominal features of data.\n",
    "    print(data[col].unique())\n",
    "    #Printing count unique values in nominal features of data.\n",
    "    print(\"\\nColumn > {} < unique values count:{}\".format(col,data[col].nunique()))"
   ]
  },
  {
   "cell_type": "code",
   "execution_count": 42,
   "metadata": {},
   "outputs": [],
   "source": [
    "#Stripping  the spaces in data whose data dtype is a object\n",
    "#def trim(x):\n",
    "  #  if x.dtype == object: \n",
    "  #      x = x.astype(str).str.strip()\n",
    " #   return(x)\n",
    "\n",
    "#Calling trim function to apply data.\n",
    "#data = data.apply(trim)"
   ]
  },
  {
   "cell_type": "code",
   "execution_count": 43,
   "metadata": {},
   "outputs": [
    {
     "name": "stdout",
     "output_type": "stream",
     "text": [
      "Index(['IrisClass'], dtype='object')\n",
      "data head:\n"
     ]
    },
    {
     "data": {
      "text/html": [
       "<div>\n",
       "<style scoped>\n",
       "    .dataframe tbody tr th:only-of-type {\n",
       "        vertical-align: middle;\n",
       "    }\n",
       "\n",
       "    .dataframe tbody tr th {\n",
       "        vertical-align: top;\n",
       "    }\n",
       "\n",
       "    .dataframe thead th {\n",
       "        text-align: right;\n",
       "    }\n",
       "</style>\n",
       "<table border=\"1\" class=\"dataframe\">\n",
       "  <thead>\n",
       "    <tr style=\"text-align: right;\">\n",
       "      <th></th>\n",
       "      <th>SepalLength</th>\n",
       "      <th>SepalWidth</th>\n",
       "      <th>PetalLength</th>\n",
       "      <th>PetalWidth</th>\n",
       "      <th>IrisClass</th>\n",
       "    </tr>\n",
       "  </thead>\n",
       "  <tbody>\n",
       "    <tr>\n",
       "      <th>0</th>\n",
       "      <td>5.1</td>\n",
       "      <td>3.5</td>\n",
       "      <td>1.4</td>\n",
       "      <td>0.2</td>\n",
       "      <td>Iris-setosa</td>\n",
       "    </tr>\n",
       "    <tr>\n",
       "      <th>1</th>\n",
       "      <td>4.9</td>\n",
       "      <td>3.0</td>\n",
       "      <td>1.4</td>\n",
       "      <td>0.2</td>\n",
       "      <td>Iris-setosa</td>\n",
       "    </tr>\n",
       "    <tr>\n",
       "      <th>2</th>\n",
       "      <td>4.7</td>\n",
       "      <td>3.2</td>\n",
       "      <td>1.3</td>\n",
       "      <td>0.2</td>\n",
       "      <td>Iris-setosa</td>\n",
       "    </tr>\n",
       "    <tr>\n",
       "      <th>3</th>\n",
       "      <td>4.6</td>\n",
       "      <td>3.1</td>\n",
       "      <td>1.5</td>\n",
       "      <td>0.2</td>\n",
       "      <td>Iris-setosa</td>\n",
       "    </tr>\n",
       "    <tr>\n",
       "      <th>4</th>\n",
       "      <td>5.0</td>\n",
       "      <td>3.6</td>\n",
       "      <td>1.4</td>\n",
       "      <td>0.2</td>\n",
       "      <td>Iris-setosa</td>\n",
       "    </tr>\n",
       "  </tbody>\n",
       "</table>\n",
       "</div>"
      ],
      "text/plain": [
       "   SepalLength  SepalWidth  PetalLength  PetalWidth    IrisClass\n",
       "0          5.1         3.5          1.4         0.2  Iris-setosa\n",
       "1          4.9         3.0          1.4         0.2  Iris-setosa\n",
       "2          4.7         3.2          1.3         0.2  Iris-setosa\n",
       "3          4.6         3.1          1.5         0.2  Iris-setosa\n",
       "4          5.0         3.6          1.4         0.2  Iris-setosa"
      ]
     },
     "metadata": {},
     "output_type": "display_data"
    },
    {
     "name": "stdout",
     "output_type": "stream",
     "text": [
      "None\n"
     ]
    }
   ],
   "source": [
    "#Selecting data whose data type is object and assign to data_objects.\n",
    "data_objects = data.select_dtypes(['object'])\n",
    "#Printing data_objects's columns name.\n",
    "print(data_objects.columns)\n",
    "#Applying the strip operation to the string attribute values (which are the object type).\n",
    "data[data_objects.columns] = data_objects.apply(lambda x: x.str.strip())\n",
    "\n",
    "print(\"data head:\")\n",
    "#Printing data head usign display library.\n",
    "print(display(data.head()))"
   ]
  },
  {
   "cell_type": "code",
   "execution_count": 44,
   "metadata": {},
   "outputs": [],
   "source": [
    "#We replace some data values(\"?\",\" \",\"\",\"NA\",'NA') with np.nan value.\n",
    "#for col in data.columns:\n",
    "#    data[col].replace([\"?\",\" \",\"\",\"NA\",'NA'],np.nan,inplace=True)"
   ]
  },
  {
   "cell_type": "code",
   "execution_count": 45,
   "metadata": {},
   "outputs": [
    {
     "name": "stdout",
     "output_type": "stream",
     "text": [
      "\u001b[1mColumns to be Dropped\n"
     ]
    }
   ],
   "source": [
    "#Printing thirteenth message as a h1 title in html code.\n",
    "#HTML('<h3>{}</h3>'.format(getMessageFromMessageCsv(14)))\n",
    "printBoldTitle(64)"
   ]
  },
  {
   "cell_type": "code",
   "execution_count": 46,
   "metadata": {},
   "outputs": [],
   "source": [
    "#Keep the attribute values that will not used in data analysis in the array.\n",
    "dropping_columns = []\n",
    "#Keep the attribute values that will be used in data analysis in the array.\n",
    "processing_columns = []\n",
    "\n",
    "for col in factor_attributesname:\n",
    "    #Applying count processing to data features.\n",
    "    shape_val_count = data[col].value_counts().shape[0]\n",
    "    #In the value count operation, if the count value is greater than 1 or 10 and the feature is not found in both numeric and resonse attribute values,\n",
    "    #I insert it into the drop array.\n",
    "    if((shape_val_count == 1 or shape_val_count > 10) and col not in numeric_attributes and col not in response_attributes):\n",
    "        dropping_columns.append(col)\n",
    "    #If the count value is greater than 1 and less than 10 or if the feature is in the numeric attribute,\n",
    "    #I insert it into the process array.\n",
    "    if((shape_val_count > 1 and shape_val_count < 10) or col in numeric_attributes):\n",
    "        processing_columns.append(col) \n",
    "for col in non_factor_attributesname:\n",
    "    #if data column in non_factor_attributesname,we will assign it to dropping column.\n",
    "    dropping_columns.append(col)"
   ]
  },
  {
   "cell_type": "code",
   "execution_count": 47,
   "metadata": {},
   "outputs": [
    {
     "name": "stdout",
     "output_type": "stream",
     "text": [
      "dropping_columns :  []\n"
     ]
    }
   ],
   "source": [
    "#Printing the dropping array.\n",
    "print(\"dropping_columns : \",dropping_columns)"
   ]
  },
  {
   "cell_type": "code",
   "execution_count": 48,
   "metadata": {},
   "outputs": [
    {
     "name": "stdout",
     "output_type": "stream",
     "text": [
      "processing_columns :  ['SepalLength', 'SepalWidth', 'PetalLength', 'PetalWidth']\n"
     ]
    }
   ],
   "source": [
    "#Printing the processing array.\n",
    "print(\"processing_columns : \",processing_columns)"
   ]
  },
  {
   "cell_type": "code",
   "execution_count": 49,
   "metadata": {
    "scrolled": true
   },
   "outputs": [
    {
     "name": "stdout",
     "output_type": "stream",
     "text": [
      "Univariate Analysis\n"
     ]
    }
   ],
   "source": [
    "#Printing fourteenth message as a h1 title in html code.\n",
    "printTitle(56)"
   ]
  },
  {
   "cell_type": "code",
   "execution_count": 50,
   "metadata": {},
   "outputs": [
    {
     "name": "stdout",
     "output_type": "stream",
     "text": [
      "\u001b[1mBox Plots for Numeric Attributes\n"
     ]
    }
   ],
   "source": [
    "#Printing fourteenth message as a h1 title in html code.\n",
    "printBoldTitle(65)"
   ]
  },
  {
   "cell_type": "code",
   "execution_count": 51,
   "metadata": {},
   "outputs": [
    {
     "data": {
      "image/png": "[encoded data removed]",
      "text/plain": [
       "<Figure size 432x288 with 1 Axes>"
      ]
     },
     "metadata": {
      "needs_background": "light"
     },
     "output_type": "display_data"
    },
    {
     "data": {
      "image/png": "[encoded data removed]",
      "text/plain": [
       "<Figure size 432x288 with 1 Axes>"
      ]
     },
     "metadata": {
      "needs_background": "light"
     },
     "output_type": "display_data"
    },
    {
     "data": {
      "image/png": "[encoded data removed]",
      "text/plain": [
       "<Figure size 432x288 with 1 Axes>"
      ]
     },
     "metadata": {
      "needs_background": "light"
     },
     "output_type": "display_data"
    },
    {
     "data": {
      "image/png": "[encoded data removed]",
      "text/plain": [
       "<Figure size 432x288 with 1 Axes>"
      ]
     },
     "metadata": {
      "needs_background": "light"
     },
     "output_type": "display_data"
    }
   ],
   "source": [
    "#box_plots function takes attribute and dataset as parameters.\n",
    "def box_plots(col,data):\n",
    "    #box plot assign col parametre to y axis,data parametre to data value.\n",
    "    sns.boxplot(y=col, data=data)\n",
    "    #column value assigned to plot title.\n",
    "    plt.title(col)\n",
    "    #plot show function to display data analsis\n",
    "    plt.show()\n",
    "\n",
    "for i,col in enumerate(numeric_attributes):\n",
    "    #call box_plots function to show numeric attribute data values.\n",
    "     box_plots(col,data)"
   ]
  },
  {
   "cell_type": "code",
   "execution_count": 52,
   "metadata": {},
   "outputs": [
    {
     "name": "stdout",
     "output_type": "stream",
     "text": [
      "\u001b[1mFrequency Charts for Nominal(Categorical) Attributes\n"
     ]
    }
   ],
   "source": [
    "#Printing fifteenth message as a h1 title in html code.\n",
    "printBoldTitle(66)"
   ]
  },
  {
   "cell_type": "code",
   "execution_count": 53,
   "metadata": {},
   "outputs": [
    {
     "data": {
      "image/png": "[encoded data removed]",
      "text/plain": [
       "<Figure size 1080x360 with 1 Axes>"
      ]
     },
     "metadata": {
      "needs_background": "light"
     },
     "output_type": "display_data"
    },
    {
     "name": "stdout",
     "output_type": "stream",
     "text": [
      "IrisClass : \n",
      "Iris-setosa        50\n",
      "Iris-versicolor    50\n",
      "Iris-virginica     50\n",
      "Name: IrisClass, dtype: int64\n",
      "A number of Class : 3 \n"
     ]
    }
   ],
   "source": [
    "#categorical_variable_displayer function takes column value as parameter.\n",
    "def categorical_variable_displayer(column):\n",
    "    #set figure size with figsize parametre.\n",
    "    plt.figure(figsize=(15,5))\n",
    "    #assign data[column].value_counts() to variableValue.\n",
    "    variableValue = data[column].value_counts()\n",
    "    #assign variableValue's shape[0] to shape_val_count.\n",
    "    shape_val_count = variableValue.shape[0]\n",
    "    #set column to x axis, data to data,order to data[column].value_counts().iloc[:shape_val_count].index.\n",
    "    sns.countplot(x = column,data = data,order= data[column].value_counts().iloc[:shape_val_count].index)\n",
    "    #set rotation angle to x axis's titles.\n",
    "    plt.xticks(rotation=30)\n",
    "    #plot show function to display data analsis\n",
    "    plt.show()\n",
    "    #Printing column and variableValue.\n",
    "    print(\"{} : \\n{}\".format(column,variableValue))\n",
    "    #Printing variableValue.length.\n",
    "    print(\"A number of Class : {} \".format(len(variableValue.index)))\n",
    "   \n",
    "    \n",
    "for categories in nominal_attributes:\n",
    "    #Calling categorical_variable_displayer for nominal attribute.\n",
    "    categorical_variable_displayer(categories)"
   ]
  },
  {
   "cell_type": "code",
   "execution_count": 54,
   "metadata": {},
   "outputs": [
    {
     "name": "stdout",
     "output_type": "stream",
     "text": [
      "Displaying Binary Variables\n"
     ]
    }
   ],
   "source": [
    "#Printing sixteenth message as a h1 title in html code.\n",
    "printTitle(17)"
   ]
  },
  {
   "cell_type": "code",
   "execution_count": 55,
   "metadata": {},
   "outputs": [],
   "source": [
    "#binary_categorical_variable_displayer function takes column value as parameter.\n",
    "def binary_categorical_variable_displayer(column):\n",
    "    #set figure size with figsize parametre.\n",
    "    plt.figure(figsize=(6,4))\n",
    "    #assign data[column].value_counts() to data_column_value_counts.\n",
    "    data_column_value_counts = data[column].value_counts()\n",
    "    #set column to x axis, data to data,\n",
    "    sns.countplot(x = column,data = data)    \n",
    "    #plot show function to display data analysis\n",
    "    plt.show()\n",
    "    #Printing column and data_column_value_counts.\n",
    "    print(\"{} : \\n{}\".format(column,data_column_value_counts))\n",
    "     #Printing data_column_value_counts.length.\n",
    "    print(\"A number of Class : {} \".format(len(data_column_value_counts.index)))"
   ]
  },
  {
   "cell_type": "code",
   "execution_count": 56,
   "metadata": {},
   "outputs": [],
   "source": [
    "for column in binary_attributes:\n",
    "    #Calling binary_categorical_variable_displayer for nominal attribute.\n",
    "    binary_categorical_variable_displayer(column)"
   ]
  },
  {
   "cell_type": "code",
   "execution_count": 57,
   "metadata": {},
   "outputs": [
    {
     "name": "stdout",
     "output_type": "stream",
     "text": [
      "\u001b[1mPie Charts for Nominal(Categorical) Attributes\n"
     ]
    }
   ],
   "source": [
    "#Printing seventeenth message as a h1 title in html code.\n",
    "printBoldTitle(67)"
   ]
  },
  {
   "cell_type": "code",
   "execution_count": 58,
   "metadata": {},
   "outputs": [],
   "source": [
    "#response_variables_grouped_displayer function takes column value as parameter.\n",
    "def response_variables_grouped_displayer(col):\n",
    "    #Grouping data as column values mean sorting response_attributes.\n",
    "    dt = data[[response_attributes,col]].groupby([col], as_index = False).mean().sort_values(by=response_attributes,ascending = False)\n",
    "    #print grouped data.\n",
    "    print(dt)    \n",
    "    #set figure size with figsize parametre.\n",
    "    plt.figure(figsize=(15,5))\n",
    "    #set column to x axis, data to dt, response_attributes to y axis.\n",
    "    sns.barplot(x=col, y=response_attributes, data=dt)\n",
    "    #set rotation angle to x axis's titles.\n",
    "    plt.xticks(rotation=30)   \n",
    "    #plot show function to display data analysis\n",
    "    plt.show()\n",
    "    print(\"\\n\\n\")\n",
    "    \n",
    "#check whether response_attributes in numeric_attributes or binary_attributes\n",
    "if(response_attributes in numeric_attributes and response_attributes in binary_attributes):\n",
    "    for column in nominal_attributes:\n",
    "        #call response_variables_grouped_displayer function for nominal attributes.\n",
    "        response_variables_grouped_displayer(column)"
   ]
  },
  {
   "cell_type": "code",
   "execution_count": 59,
   "metadata": {},
   "outputs": [
    {
     "name": "stdout",
     "output_type": "stream",
     "text": [
      "Display Nominal Features Value Counts on pie graph\n"
     ]
    }
   ],
   "source": [
    "#Printing twentieth message as a h1 title in html code.\n",
    "#HTML('<h3>{}</h3>'.format(getMessageFromMessageCsv(21)))\n",
    "printTitle(21)"
   ]
  },
  {
   "cell_type": "code",
   "execution_count": 60,
   "metadata": {
    "scrolled": true
   },
   "outputs": [
    {
     "name": "stdout",
     "output_type": "stream",
     "text": [
      "Displaying  IrisClass  in pie graph.\n"
     ]
    },
    {
     "data": {
      "image/png": "[encoded data removed]",
      "text/plain": [
       "<Figure size 864x576 with 1 Axes>"
      ]
     },
     "metadata": {},
     "output_type": "display_data"
    }
   ],
   "source": [
    "#We make an analysis on the pie graph for nominal values.\n",
    "for column in nominal_attributes:\n",
    "    #set plot figure size with figsize parameter.\n",
    "    plt.figure(figsize=(12,8))\n",
    "    #Printing column name in data.\n",
    "    print(\"Displaying \",data[column].name,\" in pie graph.\")\n",
    "    # Slices: percentage_of_products.\n",
    "    countsOfProducts = data[column].value_counts()[:10].values\n",
    "    slices = countsOfProducts\n",
    "    # Categories: set categories as first 10 values using value_counts() function.\n",
    "    categories = data[column].value_counts()[:10].index\n",
    "    # Plotting the pie-chart.\n",
    "    plt.pie(slices,\n",
    "            labels = categories,   #set categories as label name.\n",
    "            startangle = 145,   #start to display with this angle.\n",
    "            # To display the percent value using Python string formatting.\n",
    "            autopct = '%1.1f%%' #String formatting code to use when adding annotations.\n",
    "           )\n",
    "    #Calling plot show function.\n",
    "    plt.show()"
   ]
  },
  {
   "cell_type": "code",
   "execution_count": 61,
   "metadata": {},
   "outputs": [
    {
     "name": "stdout",
     "output_type": "stream",
     "text": [
      "Correlation Between Numeric Column\n"
     ]
    }
   ],
   "source": [
    "#Printing eighteenth message as a h1 title in html code.\n",
    "printTitle(19)"
   ]
  },
  {
   "cell_type": "code",
   "execution_count": 62,
   "metadata": {},
   "outputs": [
    {
     "name": "stdout",
     "output_type": "stream",
     "text": [
      "numeric_values_for_correlation:  ['SepalLength' 'SepalWidth' 'PetalLength' 'PetalWidth']\n"
     ]
    }
   ],
   "source": [
    "#Applying correlation to find out the relationship of numeric values with each other.\n",
    "numeric_values_for_correlation = datainfo.attribute_datas[(datainfo.attrtype==\"numeric\") |(datainfo.attrtype==\"numerical\")][\"attrname\"].values\n",
    "#Printing correlated this numeric_values_for_correlation value.\n",
    "print(\"numeric_values_for_correlation: \",numeric_values_for_correlation)"
   ]
  },
  {
   "cell_type": "code",
   "execution_count": 63,
   "metadata": {},
   "outputs": [],
   "source": [
    "#In addition to the corr operation, Applying this operation.\n",
    " \n",
    "#If the response attribute exists in the nominal array,\n",
    "if data[response_attributes].name in nominal_attributes:\n",
    "    #We perform a numeric categorical transformation by applying the labelEncoder to it.\n",
    "    label_encoder=preprocessing.LabelEncoder()\n",
    "    data[response_attributes] = label_encoder.fit_transform(data[response_attributes])\n",
    "    #So, we can make correlation between numeric values and response attribute.\n",
    "    numeric_values_for_correlation = np.append(numeric_values_for_correlation,data[response_attributes].name)\n",
    "#Printing the correlation value as a numeric_values_for_correlation.\n",
    "#print(\"numeric_values_for_correlation: \",numeric_values_for_correlation)"
   ]
  },
  {
   "cell_type": "code",
   "execution_count": 64,
   "metadata": {},
   "outputs": [
    {
     "data": {
      "image/png": "[encoded data removed]",
      "text/plain": [
       "<Figure size 864x576 with 2 Axes>"
      ]
     },
     "metadata": {},
     "output_type": "display_data"
    }
   ],
   "source": [
    "#Selecting numeric_values_for_correlation from data.\n",
    "data_frame_correlated = data[numeric_values_for_correlation]\n",
    "#Setting figure size with figsize parameter.\n",
    "sns.set(rc = {\"figure.figsize\":(12,8)})\n",
    "\n",
    "#Applying corr process to df data.\n",
    "correlation = data_frame_correlated.corr()\n",
    "#Displaying correlation on heatmap.\n",
    "sns.heatmap(correlation,\n",
    "                cmap='coolwarm',#color parameter to show data\n",
    "                annot=True, #if true,data value will print in each cell.\n",
    "                fmt=\".1f\", #String formatting code to use when adding annotations.\n",
    "                annot_kws={'size':10}, #font size of data values in each cell.\n",
    "                cbar=True, #Whether to draw a colorbar.\n",
    "                square=False, #If True, set the Axes aspect to “equal” so each cell will be square-shaped.\n",
    "                xticklabels=correlation.columns.values, #X axis label values is a corr.column.values.\n",
    "                yticklabels=correlation.columns.values, #Y axis label values is a corr.column.values.\n",
    "           )\n",
    "plt.show() #Calling plot show function."
   ]
  },
  {
   "cell_type": "code",
   "execution_count": 65,
   "metadata": {},
   "outputs": [
    {
     "name": "stdout",
     "output_type": "stream",
     "text": [
      "Matrix that involves correlation values between numeric columns\n"
     ]
    }
   ],
   "source": [
    "#Printing nineteenth message as a h1 title in html code.\n",
    "printTitle(20)"
   ]
  },
  {
   "cell_type": "code",
   "execution_count": 66,
   "metadata": {},
   "outputs": [
    {
     "data": {
      "text/html": [
       "<div>\n",
       "<style scoped>\n",
       "    .dataframe tbody tr th:only-of-type {\n",
       "        vertical-align: middle;\n",
       "    }\n",
       "\n",
       "    .dataframe tbody tr th {\n",
       "        vertical-align: top;\n",
       "    }\n",
       "\n",
       "    .dataframe thead th {\n",
       "        text-align: right;\n",
       "    }\n",
       "</style>\n",
       "<table border=\"1\" class=\"dataframe\">\n",
       "  <thead>\n",
       "    <tr style=\"text-align: right;\">\n",
       "      <th></th>\n",
       "      <th>SepalLength</th>\n",
       "      <th>SepalWidth</th>\n",
       "      <th>PetalLength</th>\n",
       "      <th>PetalWidth</th>\n",
       "      <th>IrisClass</th>\n",
       "    </tr>\n",
       "  </thead>\n",
       "  <tbody>\n",
       "    <tr>\n",
       "      <th>SepalLength</th>\n",
       "      <td>1.000000</td>\n",
       "      <td>-0.109369</td>\n",
       "      <td>0.871754</td>\n",
       "      <td>0.817954</td>\n",
       "      <td>0.782561</td>\n",
       "    </tr>\n",
       "    <tr>\n",
       "      <th>SepalWidth</th>\n",
       "      <td>-0.109369</td>\n",
       "      <td>1.000000</td>\n",
       "      <td>-0.420516</td>\n",
       "      <td>-0.356544</td>\n",
       "      <td>-0.419446</td>\n",
       "    </tr>\n",
       "    <tr>\n",
       "      <th>PetalLength</th>\n",
       "      <td>0.871754</td>\n",
       "      <td>-0.420516</td>\n",
       "      <td>1.000000</td>\n",
       "      <td>0.962757</td>\n",
       "      <td>0.949043</td>\n",
       "    </tr>\n",
       "    <tr>\n",
       "      <th>PetalWidth</th>\n",
       "      <td>0.817954</td>\n",
       "      <td>-0.356544</td>\n",
       "      <td>0.962757</td>\n",
       "      <td>1.000000</td>\n",
       "      <td>0.956464</td>\n",
       "    </tr>\n",
       "    <tr>\n",
       "      <th>IrisClass</th>\n",
       "      <td>0.782561</td>\n",
       "      <td>-0.419446</td>\n",
       "      <td>0.949043</td>\n",
       "      <td>0.956464</td>\n",
       "      <td>1.000000</td>\n",
       "    </tr>\n",
       "  </tbody>\n",
       "</table>\n",
       "</div>"
      ],
      "text/plain": [
       "             SepalLength  SepalWidth  PetalLength  PetalWidth  IrisClass\n",
       "SepalLength     1.000000   -0.109369     0.871754    0.817954   0.782561\n",
       "SepalWidth     -0.109369    1.000000    -0.420516   -0.356544  -0.419446\n",
       "PetalLength     0.871754   -0.420516     1.000000    0.962757   0.949043\n",
       "PetalWidth      0.817954   -0.356544     0.962757    1.000000   0.956464\n",
       "IrisClass       0.782561   -0.419446     0.949043    0.956464   1.000000"
      ]
     },
     "metadata": {},
     "output_type": "display_data"
    },
    {
     "name": "stdout",
     "output_type": "stream",
     "text": [
      "corr table:  None\n"
     ]
    }
   ],
   "source": [
    "#Printing the corr values.\n",
    "print(\"corr table: \",display(correlation))"
   ]
  },
  {
   "cell_type": "code",
   "execution_count": 67,
   "metadata": {},
   "outputs": [
    {
     "name": "stdout",
     "output_type": "stream",
     "text": [
      "Analysis for Values of Nominal Attributes\n"
     ]
    }
   ],
   "source": [
    "#Printing nineteenth message as a h1 title in html code.\n",
    "printTitle(57)"
   ]
  },
  {
   "cell_type": "code",
   "execution_count": 68,
   "metadata": {},
   "outputs": [
    {
     "name": "stdout",
     "output_type": "stream",
     "text": [
      "Nominal Features: IrisClass - Mean Of Numeric Features (First 10)\n"
     ]
    },
    {
     "data": {
      "text/html": [
       "<div>\n",
       "<style scoped>\n",
       "    .dataframe tbody tr th:only-of-type {\n",
       "        vertical-align: middle;\n",
       "    }\n",
       "\n",
       "    .dataframe tbody tr th {\n",
       "        vertical-align: top;\n",
       "    }\n",
       "\n",
       "    .dataframe thead th {\n",
       "        text-align: right;\n",
       "    }\n",
       "</style>\n",
       "<table border=\"1\" class=\"dataframe\">\n",
       "  <thead>\n",
       "    <tr style=\"text-align: right;\">\n",
       "      <th></th>\n",
       "      <th>IrisClass</th>\n",
       "      <th>SepalLength</th>\n",
       "      <th>SepalWidth</th>\n",
       "      <th>PetalLength</th>\n",
       "      <th>PetalWidth</th>\n",
       "    </tr>\n",
       "  </thead>\n",
       "  <tbody>\n",
       "    <tr>\n",
       "      <th>0</th>\n",
       "      <td>0</td>\n",
       "      <td>5.006</td>\n",
       "      <td>3.418</td>\n",
       "      <td>1.464</td>\n",
       "      <td>0.244</td>\n",
       "    </tr>\n",
       "    <tr>\n",
       "      <th>1</th>\n",
       "      <td>1</td>\n",
       "      <td>5.936</td>\n",
       "      <td>2.770</td>\n",
       "      <td>4.260</td>\n",
       "      <td>1.326</td>\n",
       "    </tr>\n",
       "    <tr>\n",
       "      <th>2</th>\n",
       "      <td>2</td>\n",
       "      <td>6.588</td>\n",
       "      <td>2.974</td>\n",
       "      <td>5.552</td>\n",
       "      <td>2.026</td>\n",
       "    </tr>\n",
       "  </tbody>\n",
       "</table>\n",
       "</div>"
      ],
      "text/plain": [
       "   IrisClass  SepalLength  SepalWidth  PetalLength  PetalWidth\n",
       "0          0        5.006       3.418        1.464       0.244\n",
       "1          1        5.936       2.770        4.260       1.326\n",
       "2          2        6.588       2.974        5.552       2.026"
      ]
     },
     "metadata": {},
     "output_type": "display_data"
    },
    {
     "name": "stdout",
     "output_type": "stream",
     "text": [
      "None\n",
      "Nominal Features: IrisClass - Count Of Numeric Features (First 10)\n"
     ]
    },
    {
     "data": {
      "text/html": [
       "<div>\n",
       "<style scoped>\n",
       "    .dataframe tbody tr th:only-of-type {\n",
       "        vertical-align: middle;\n",
       "    }\n",
       "\n",
       "    .dataframe tbody tr th {\n",
       "        vertical-align: top;\n",
       "    }\n",
       "\n",
       "    .dataframe thead th {\n",
       "        text-align: right;\n",
       "    }\n",
       "</style>\n",
       "<table border=\"1\" class=\"dataframe\">\n",
       "  <thead>\n",
       "    <tr style=\"text-align: right;\">\n",
       "      <th></th>\n",
       "      <th>IrisClass</th>\n",
       "      <th>SepalLength</th>\n",
       "      <th>SepalWidth</th>\n",
       "      <th>PetalLength</th>\n",
       "      <th>PetalWidth</th>\n",
       "    </tr>\n",
       "  </thead>\n",
       "  <tbody>\n",
       "    <tr>\n",
       "      <th>0</th>\n",
       "      <td>0</td>\n",
       "      <td>50</td>\n",
       "      <td>50</td>\n",
       "      <td>50</td>\n",
       "      <td>50</td>\n",
       "    </tr>\n",
       "    <tr>\n",
       "      <th>1</th>\n",
       "      <td>1</td>\n",
       "      <td>50</td>\n",
       "      <td>50</td>\n",
       "      <td>50</td>\n",
       "      <td>50</td>\n",
       "    </tr>\n",
       "    <tr>\n",
       "      <th>2</th>\n",
       "      <td>2</td>\n",
       "      <td>50</td>\n",
       "      <td>50</td>\n",
       "      <td>50</td>\n",
       "      <td>50</td>\n",
       "    </tr>\n",
       "  </tbody>\n",
       "</table>\n",
       "</div>"
      ],
      "text/plain": [
       "   IrisClass  SepalLength  SepalWidth  PetalLength  PetalWidth\n",
       "0          0           50          50           50          50\n",
       "1          1           50          50           50          50\n",
       "2          2           50          50           50          50"
      ]
     },
     "metadata": {},
     "output_type": "display_data"
    },
    {
     "name": "stdout",
     "output_type": "stream",
     "text": [
      "None\n"
     ]
    }
   ],
   "source": [
    "#We perform numerical analysis by grouping nominal attributes with numeric attributes (such as count and mean).\n",
    "for i,nominal_columns in enumerate(nominal_attributes):\n",
    "    #Printing nominal features name.\n",
    "    print(\"Nominal Features: {} - Mean Of Numeric Features (First 10)\".format(nominal_columns))\n",
    "    #the data to find mean.\n",
    "    data_grouped = pd.concat([data[numeric_attributes],data[nominal_attributes[i]]],axis=1).groupby(nominal_attributes[i],as_index=False).mean()[:10]\n",
    "    #Setting sort paremeter with sort_index.\n",
    "    data_grouped.sort_index(inplace=True)\n",
    "    #Printing grouped data usigg display library.\n",
    "    print(display(data_grouped))\n",
    "    \n",
    "    #Printing nominal features name.\n",
    "    print(\"Nominal Features: {} - Count Of Numeric Features (First 10)\".format(nominal_columns))\n",
    "    #the data to find mean.\n",
    "    data_grouped = pd.concat([data[numeric_attributes],data[nominal_attributes[i]]],axis=1).groupby(nominal_attributes[i],as_index=False).count()[:10]\n",
    "    #Setting sort paremeter with sort_index.\n",
    "    data_grouped.sort_index(inplace=True)\n",
    "    #Printing grouped data usigg display library.\n",
    "    print(display(data_grouped))"
   ]
  },
  {
   "cell_type": "code",
   "execution_count": 69,
   "metadata": {},
   "outputs": [
    {
     "name": "stdout",
     "output_type": "stream",
     "text": [
      "\u001b[1mFrequency Charts for Nominal(Categorical) Attributes\n"
     ]
    }
   ],
   "source": [
    "#Printing twenty first message as a h1 title in html code.\n",
    "printBoldTitle(66)"
   ]
  },
  {
   "cell_type": "code",
   "execution_count": 70,
   "metadata": {},
   "outputs": [],
   "source": [
    "#For binary attributes, Applying the count operation with bar graph.\n",
    "for pr in binary_attributes: #for every binary attribute data.\n",
    "    for category in nominal_attributes: #for every nominal_attributes attribute data for each nominal attribute.\n",
    "        category_counts = data[category].value_counts() #Applying value_counts() for find count of category data in our data.\n",
    "        if len(category_counts) < 10:\n",
    "            #if count of data is smalller 10, Printing category name and category value count.\n",
    "            print(category_counts)\n",
    "            print(category)\n",
    "            plt.figure(figsize=(12,6)) #set figure size using figsize parameter.\n",
    "            sns.countplot(x = pr, data = data,hue = category)#We show this counted value on countplot by assign pr to x and data to data and categ to hue.\n",
    "        #Displaying the plot using show function.\n",
    "        plt.show()"
   ]
  },
  {
   "cell_type": "code",
   "execution_count": 71,
   "metadata": {},
   "outputs": [
    {
     "name": "stdout",
     "output_type": "stream",
     "text": [
      "\u001b[1mAnalysis of Missing(Null) Values\n"
     ]
    }
   ],
   "source": [
    "#Printing twenty second message as a h1 title in html code.\n",
    "#HTML('<h3>{}</h3>'.format(getMessageFromMessageCsv(58)))\n",
    "printBoldTitle(68)"
   ]
  },
  {
   "cell_type": "code",
   "execution_count": 72,
   "metadata": {},
   "outputs": [
    {
     "name": "stdout",
     "output_type": "stream",
     "text": [
      "\u001b[1mCheck null values and processing on data\n"
     ]
    }
   ],
   "source": [
    "#Printing twenty second message as a h1 title in html code.\n",
    "#HTML('<h3>{}</h3>'.format(getMessageFromMessageCsv(23)))\n",
    "print(color.BOLD + getMessageFromMessageCsv(23))"
   ]
  },
  {
   "cell_type": "code",
   "execution_count": 73,
   "metadata": {},
   "outputs": [
    {
     "name": "stdout",
     "output_type": "stream",
     "text": [
      "data null sum each attribute:\n",
      " SepalLength    0\n",
      "SepalWidth     0\n",
      "PetalLength    0\n",
      "PetalWidth     0\n",
      "IrisClass      0\n",
      "dtype: int64\n"
     ]
    }
   ],
   "source": [
    "#Finding the total null values for each attribute in our dataset usign isnull function.\n",
    "print(\"data null sum each attribute:\\n\",data.isnull().sum())"
   ]
  },
  {
   "cell_type": "code",
   "execution_count": 74,
   "metadata": {},
   "outputs": [
    {
     "name": "stdout",
     "output_type": "stream",
     "text": [
      "data null sum :  0\n"
     ]
    }
   ],
   "source": [
    "#Finding the total null values found in the dataset.\n",
    "print(\"data null sum : \",data.isnull().sum().sum())"
   ]
  },
  {
   "cell_type": "code",
   "execution_count": 75,
   "metadata": {},
   "outputs": [
    {
     "data": {
      "image/png": "[encoded data removed]",
      "text/plain": [
       "<Figure size 1440x720 with 2 Axes>"
      ]
     },
     "metadata": {},
     "output_type": "display_data"
    }
   ],
   "source": [
    "#Examining the total null values for each attribute in our dataset on the graph.\n",
    "missingno.matrix(data,figsize=(20,10));"
   ]
  },
  {
   "cell_type": "code",
   "execution_count": 76,
   "metadata": {},
   "outputs": [],
   "source": [
    "#We check whether total null value in data, if is equal zero,heatmap will be displayed.\n",
    "#if data.isnull().sum().sum() != 0:\n",
    "#    missingno.heatmap(data,figsize=(15,8))"
   ]
  },
  {
   "cell_type": "code",
   "execution_count": 77,
   "metadata": {},
   "outputs": [],
   "source": [
    "#Examining the null values for each attribute in our dataset as a percentage in that attribute.\n",
    "def null_values_table(data):\n",
    "    #Finding null values for data attribute.\n",
    "    null_values_sum = data.isnull().sum()\n",
    "    #We will calculate percentage for that null values on attribute.\n",
    "    null_values_sum_percentage = 100 * null_values_sum / len(data)\n",
    "    #Creating table null values count and null values percentage with concat.\n",
    "    null_values_tables = pd.concat([null_values_sum,null_values_sum_percentage],axis=1)\n",
    "    #We rename columns of the table with these string.\n",
    "    null_val_table_result = null_values_tables.rename(columns = {0:\"Null Values Sum\",1:\"% Value\"})\n",
    "    #return the created table.\n",
    "    return null_val_table_result"
   ]
  },
  {
   "cell_type": "code",
   "execution_count": 78,
   "metadata": {},
   "outputs": [
    {
     "data": {
      "text/html": [
       "<div>\n",
       "<style scoped>\n",
       "    .dataframe tbody tr th:only-of-type {\n",
       "        vertical-align: middle;\n",
       "    }\n",
       "\n",
       "    .dataframe tbody tr th {\n",
       "        vertical-align: top;\n",
       "    }\n",
       "\n",
       "    .dataframe thead th {\n",
       "        text-align: right;\n",
       "    }\n",
       "</style>\n",
       "<table border=\"1\" class=\"dataframe\">\n",
       "  <thead>\n",
       "    <tr style=\"text-align: right;\">\n",
       "      <th></th>\n",
       "      <th>Null Values Sum</th>\n",
       "      <th>% Value</th>\n",
       "    </tr>\n",
       "  </thead>\n",
       "  <tbody>\n",
       "    <tr>\n",
       "      <th>SepalLength</th>\n",
       "      <td>0</td>\n",
       "      <td>0.0</td>\n",
       "    </tr>\n",
       "    <tr>\n",
       "      <th>SepalWidth</th>\n",
       "      <td>0</td>\n",
       "      <td>0.0</td>\n",
       "    </tr>\n",
       "    <tr>\n",
       "      <th>PetalLength</th>\n",
       "      <td>0</td>\n",
       "      <td>0.0</td>\n",
       "    </tr>\n",
       "    <tr>\n",
       "      <th>PetalWidth</th>\n",
       "      <td>0</td>\n",
       "      <td>0.0</td>\n",
       "    </tr>\n",
       "    <tr>\n",
       "      <th>IrisClass</th>\n",
       "      <td>0</td>\n",
       "      <td>0.0</td>\n",
       "    </tr>\n",
       "  </tbody>\n",
       "</table>\n",
       "</div>"
      ],
      "text/plain": [
       "             Null Values Sum  % Value\n",
       "SepalLength                0      0.0\n",
       "SepalWidth                 0      0.0\n",
       "PetalLength                0      0.0\n",
       "PetalWidth                 0      0.0\n",
       "IrisClass                  0      0.0"
      ]
     },
     "execution_count": 78,
     "metadata": {},
     "output_type": "execute_result"
    }
   ],
   "source": [
    "#Calling the null_values_table with data parameter.\n",
    "null_values_table(data)"
   ]
  },
  {
   "cell_type": "code",
   "execution_count": 79,
   "metadata": {},
   "outputs": [],
   "source": [
    "#We are making scalers for numeric attributes.\n",
    "for column in numeric_attributes:#for each numeric attribute,Applying below lines. \n",
    "    column_type_floated = data[[column]].values.astype(float) #Assigning that column of data values as a float type to in array.\n",
    "    min_max_scaler_colummn = preprocessing.MinMaxScaler() #Assigning MinMaxScaler() function to a variable.\n",
    "    scl_val = min_max_scaler_colummn.fit_transform(column_type_floated) #Applying min-max scaler  to the float array.\n",
    "    data[column] = pd.DataFrame(scl_val) #Creating dataframe with scaled flaot array."
   ]
  },
  {
   "cell_type": "code",
   "execution_count": 80,
   "metadata": {},
   "outputs": [],
   "source": [
    "#Display null values\n",
    "#for col in factor_attributesname:\n",
    "#    displayNullValue(col)"
   ]
  },
  {
   "cell_type": "code",
   "execution_count": 81,
   "metadata": {},
   "outputs": [
    {
     "name": "stdout",
     "output_type": "stream",
     "text": [
      "data shape :  (150, 5)\n"
     ]
    }
   ],
   "source": [
    "#We drop the lines with null values with dropna function.\n",
    "data = data.dropna(axis = 0, how ='any')\n",
    "#Printing data's shape.\n",
    "print(\"data shape : \",data.shape)"
   ]
  },
  {
   "cell_type": "code",
   "execution_count": 82,
   "metadata": {},
   "outputs": [
    {
     "name": "stdout",
     "output_type": "stream",
     "text": [
      "data null sum:\n",
      " SepalLength    0\n",
      "SepalWidth     0\n",
      "PetalLength    0\n",
      "PetalWidth     0\n",
      "IrisClass      0\n",
      "dtype: int64\n"
     ]
    }
   ],
   "source": [
    "#We are reviewing the total null values in our dataset again and print that values.\n",
    "print(\"data null sum:\\n\",data.isnull().sum())"
   ]
  },
  {
   "cell_type": "code",
   "execution_count": 83,
   "metadata": {},
   "outputs": [
    {
     "name": "stdout",
     "output_type": "stream",
     "text": [
      "\u001b[1mEncoding Nominal Attributes\n"
     ]
    }
   ],
   "source": [
    "#Printing twenty third message as a h1 title in html code.\n",
    "#HTML('<h3>{}</h3>'.format(getMessageFromMessageCsv(24)))\n",
    "printBoldTitle(69)"
   ]
  },
  {
   "cell_type": "code",
   "execution_count": 84,
   "metadata": {},
   "outputs": [],
   "source": [
    "#nominal attribute degerlerine dummies islei uyguluyoruz.\n",
    "for col in processing_columns:\n",
    "    if col in nominal_attributes:\n",
    "        data = pd.get_dummies(data,columns=[col])"
   ]
  },
  {
   "cell_type": "code",
   "execution_count": 85,
   "metadata": {},
   "outputs": [
    {
     "name": "stdout",
     "output_type": "stream",
     "text": [
      "data columns Index(['SepalLength', 'SepalWidth', 'PetalLength', 'PetalWidth', 'IrisClass'], dtype='object')\n"
     ]
    }
   ],
   "source": [
    "print(\"data columns\",data.columns)"
   ]
  },
  {
   "cell_type": "code",
   "execution_count": 86,
   "metadata": {},
   "outputs": [
    {
     "name": "stdout",
     "output_type": "stream",
     "text": [
      "data columns after dropping Index(['SepalLength', 'SepalWidth', 'PetalLength', 'PetalWidth', 'IrisClass'], dtype='object')\n"
     ]
    }
   ],
   "source": [
    "#dropping arraydeki attributeleri drop ediyoruz.\n",
    "data.drop(labels=dropping_columns,axis=1,inplace=True)\n",
    "print(\"data columns after dropping\",data.columns)"
   ]
  },
  {
   "cell_type": "code",
   "execution_count": 87,
   "metadata": {},
   "outputs": [],
   "source": [
    "#import os\n",
    "#os.system('jupyter nbconvert --to html data.ipynb --no-input')\n",
    "#from run import question\n",
    "#question()"
   ]
  },
  {
   "cell_type": "code",
   "execution_count": 88,
   "metadata": {
    "colab": {},
    "colab_type": "code",
    "id": "e7A0yjNVhg1z"
   },
   "outputs": [],
   "source": [
    "#We import machine learning libraries.\n",
    "#Importing RandomForestRegressor from sklearn library.\n",
    "from sklearn.ensemble import RandomForestRegressor as RFG\n",
    "#Importing scale,StandardScaler from sklearn library.\n",
    "from sklearn.preprocessing import scale,StandardScaler\n",
    "#Importing LinearRegression from sklearn library.\n",
    "from sklearn.linear_model import LinearRegression \n",
    "#Importing DecisionTreeRegressor,DecisionTreeClassifier from sklearn library.\n",
    "from sklearn.tree import DecisionTreeRegressor,DecisionTreeClassifier \n",
    "#Importing Ridge,Lasso,ElasticNet,LogisticRegression from sklearn library..\n",
    "from sklearn.linear_model import Ridge,Lasso,ElasticNet,LogisticRegression \n",
    "#Importing KNeighborsRegressor,KNeighborsClassifier from sklearn library..\n",
    "from sklearn.neighbors import KNeighborsRegressor,KNeighborsClassifier \n",
    "#Importing MLPRegressor,MLPClassifier from sklearn library..\n",
    "from sklearn.neural_network import MLPRegressor,MLPClassifier \n",
    "#Importing RandomForestRegressor,RandomForestClassifier from sklearn library..\n",
    "from sklearn.ensemble import RandomForestRegressor,RandomForestClassifier \n",
    "#Importing GradientBoostingRegressor,GradientBoostingClassifier from sklearn library..\n",
    "from sklearn.ensemble import GradientBoostingRegressor,GradientBoostingClassifier\n",
    "#Importing VotingClassifier,VotingRegressor from sklearn library..\n",
    "from sklearn.ensemble import VotingClassifier,VotingRegressor \n",
    "#Importing neighbors from sklearn library..\n",
    "from sklearn import neighbors \n",
    "#Importing Support Vector Regression and Support Vector Classification from sklearn library..\n",
    "from sklearn.svm import SVR,SVC \n",
    "#Importing statsmodels.api library.\n",
    "import statsmodels.api as sm \n",
    "#Importing preprocessing from sklearn library..\n",
    "from sklearn import preprocessing \n",
    "#Importing train_test_split,GridSearchCV,cross_val_score,StratifiedKFold from sklearn library..\n",
    "from sklearn.model_selection import train_test_split,GridSearchCV,cross_val_score,StratifiedKFold \n",
    "#Importing accuracy_score,mean_squared_error,r2_score,roc_auc_score,roc_curve,classification_report ,mean_absolute_error from sklearn library.\n",
    "from sklearn.metrics import accuracy_score,mean_squared_error,r2_score,roc_auc_score,roc_curve,classification_report ,mean_absolute_error \n",
    "#Importing confusion_matrix from sklearn library.\n",
    "from sklearn.metrics import confusion_matrix as cm "
   ]
  },
  {
   "cell_type": "code",
   "execution_count": 89,
   "metadata": {},
   "outputs": [],
   "source": [
    "#Applying scaler operation to numeric values.\n",
    "min_max_scaler = preprocessing.MinMaxScaler()\n",
    "#X_train = min_max_scaler.fit_transform(X_train)\n",
    "#Assigning scaled values to numeric data.\n",
    "data[numeric_attributes] = min_max_scaler.fit_transform(data[numeric_attributes])"
   ]
  },
  {
   "cell_type": "code",
   "execution_count": 90,
   "metadata": {},
   "outputs": [
    {
     "name": "stdout",
     "output_type": "stream",
     "text": [
      "Splitting our data as test and train\n"
     ]
    }
   ],
   "source": [
    "#Printing twenty sixth message as a h1 title in html code.\n",
    "printTitle(27)"
   ]
  },
  {
   "cell_type": "code",
   "execution_count": 91,
   "metadata": {
    "colab": {},
    "colab_type": "code",
    "id": "8o4_km6Ahg11"
   },
   "outputs": [],
   "source": [
    "#We separate our dataset as response and factor.\n",
    "#Assigning response_attributes to y.\n",
    "y = data[response_attributes]\n",
    "#Assigning data to X.\n",
    "X = data\n",
    "#We drop response attribute date from X.\n",
    "X = X.drop(columns=response_attributes)"
   ]
  },
  {
   "cell_type": "code",
   "execution_count": 92,
   "metadata": {
    "colab": {
     "base_uri": "https://localhost:8080/",
     "height": 258
    },
    "colab_type": "code",
    "executionInfo": {
     "elapsed": 25309,
     "status": "ok",
     "timestamp": 1586689305803,
     "user": {
      "displayName": "Oğuzhan Özer",
      "photoUrl": "",
      "userId": "08838382123349843014"
     },
     "user_tz": -180
    },
    "id": "OoA_nwMlhg13",
    "outputId": "14711401-8309-4db5-e716-80aadc5fd299",
    "scrolled": true
   },
   "outputs": [
    {
     "data": {
      "text/html": [
       "<div>\n",
       "<style scoped>\n",
       "    .dataframe tbody tr th:only-of-type {\n",
       "        vertical-align: middle;\n",
       "    }\n",
       "\n",
       "    .dataframe tbody tr th {\n",
       "        vertical-align: top;\n",
       "    }\n",
       "\n",
       "    .dataframe thead th {\n",
       "        text-align: right;\n",
       "    }\n",
       "</style>\n",
       "<table border=\"1\" class=\"dataframe\">\n",
       "  <thead>\n",
       "    <tr style=\"text-align: right;\">\n",
       "      <th></th>\n",
       "      <th>SepalLength</th>\n",
       "      <th>SepalWidth</th>\n",
       "      <th>PetalLength</th>\n",
       "      <th>PetalWidth</th>\n",
       "    </tr>\n",
       "  </thead>\n",
       "  <tbody>\n",
       "    <tr>\n",
       "      <th>0</th>\n",
       "      <td>0.222222</td>\n",
       "      <td>0.625000</td>\n",
       "      <td>0.067797</td>\n",
       "      <td>0.041667</td>\n",
       "    </tr>\n",
       "    <tr>\n",
       "      <th>1</th>\n",
       "      <td>0.166667</td>\n",
       "      <td>0.416667</td>\n",
       "      <td>0.067797</td>\n",
       "      <td>0.041667</td>\n",
       "    </tr>\n",
       "    <tr>\n",
       "      <th>2</th>\n",
       "      <td>0.111111</td>\n",
       "      <td>0.500000</td>\n",
       "      <td>0.050847</td>\n",
       "      <td>0.041667</td>\n",
       "    </tr>\n",
       "    <tr>\n",
       "      <th>3</th>\n",
       "      <td>0.083333</td>\n",
       "      <td>0.458333</td>\n",
       "      <td>0.084746</td>\n",
       "      <td>0.041667</td>\n",
       "    </tr>\n",
       "    <tr>\n",
       "      <th>4</th>\n",
       "      <td>0.194444</td>\n",
       "      <td>0.666667</td>\n",
       "      <td>0.067797</td>\n",
       "      <td>0.041667</td>\n",
       "    </tr>\n",
       "  </tbody>\n",
       "</table>\n",
       "</div>"
      ],
      "text/plain": [
       "   SepalLength  SepalWidth  PetalLength  PetalWidth\n",
       "0     0.222222    0.625000     0.067797    0.041667\n",
       "1     0.166667    0.416667     0.067797    0.041667\n",
       "2     0.111111    0.500000     0.050847    0.041667\n",
       "3     0.083333    0.458333     0.084746    0.041667\n",
       "4     0.194444    0.666667     0.067797    0.041667"
      ]
     },
     "metadata": {},
     "output_type": "display_data"
    },
    {
     "name": "stdout",
     "output_type": "stream",
     "text": [
      "train data head table:  None\n"
     ]
    }
   ],
   "source": [
    "#Printing last data's head value usign display.\n",
    "print(\"train data head table: \",display(X.head()))"
   ]
  },
  {
   "cell_type": "code",
   "execution_count": 93,
   "metadata": {
    "colab": {},
    "colab_type": "code",
    "id": "GyaMty3qhg14"
   },
   "outputs": [],
   "source": [
    "#We separate our train and test data.\n",
    "X_train, X_test, y_train, y_test = train_test_split(\n",
    "        X, y, train_size=0.75, test_size=0.25, random_state=42, shuffle=True)"
   ]
  },
  {
   "cell_type": "code",
   "execution_count": 94,
   "metadata": {},
   "outputs": [],
   "source": [
    "#Creating an array to hold the results of the model training values.\n",
    "model_name_array = [] #Creating this array hold model name.\n",
    "model_mean_squared_error_values_array = [] #Creating this array hold mean squared error values.\n",
    "model_mean_absolute_error_values_array = [] #Creating this array hold mean absolute error values.\n",
    "model_root_mean_squared_error_values_array = [] #Creating this array hold root mean squared error values.\n",
    "model_r2_score_values_array = [] #Creating this array hold r2 score values..\n",
    "model_root_mean_squared_error_perc_values_array = []\n",
    "model_mean_absolute_error_perc_values_array = []\n",
    "model_r2_score_perc_values_array = []"
   ]
  },
  {
   "cell_type": "code",
   "execution_count": 95,
   "metadata": {},
   "outputs": [],
   "source": [
    "#Printing initialized above score values.print_error_values function get parameter as _mse,_mae,_rmse, _r_score ,r2_score.\n",
    "def print_error_values(_mse,_mae,_rmse, _r_score ,r2_score,_rmseper,_maeper,_r2_adjusted):   \n",
    "    print(\"Mean Squared Error (MSE): %.2f\" % _mse)\n",
    "    print('Mean Absolute Error (MAE): %.2f' % _mae)\n",
    "    print('Root Mean Squared Error (RMSE): %.2f' % _rmse)  \n",
    "    #print('R score :  %.2f' % _r_score)\n",
    "    print('r2 score :  %.2f' % r2_score)\n",
    "    print('Mean Absolute Error Percentage (MAEPerc): %.2f' % _maeper)\n",
    "    print('Root Mean Squared Error Percentage (RMSEPerc): %.2f' % _rmseper)  \n",
    "    print('r2 score adjusted :  %.2f' % _r2_adjusted)"
   ]
  },
  {
   "cell_type": "code",
   "execution_count": 96,
   "metadata": {},
   "outputs": [],
   "source": [
    "#this print_mean_squared_error_values function get model_name_array,X_test,y_test as paremeters to find Mean Squared Error value.\n",
    "def print_mean_squared_error_values(model_name_array,X_test,y_test):\n",
    "    #We predict the X_test data and assign it to y_pred.\n",
    "    y_pred = model_name_array.predict(X_test)\n",
    "    #We use the np.sqrt function to compare y_test,y_pred by using mean_squared_error.\n",
    "    mse = np.sqrt(mean_squared_error(y_test,y_pred))\n",
    "    #Printing Mean Squared Error value. \n",
    "    print(\"Mean Squared Error (MSE): %.2f\" % mse)"
   ]
  },
  {
   "cell_type": "code",
   "execution_count": 97,
   "metadata": {},
   "outputs": [],
   "source": [
    "class RegressionMetrics(object):\n",
    "    mse  = []\n",
    "    mae = []\n",
    "    rmse = []    \n",
    "    r_score = []\n",
    "    r2_score = []    \n",
    "    rmseper = []    \n",
    "    maeper = []    \n",
    "    r2_adjusted = []    \n",
    "    \n",
    "    def __init__(self):\n",
    "        pass"
   ]
  },
  {
   "cell_type": "code",
   "execution_count": 98,
   "metadata": {},
   "outputs": [],
   "source": [
    "class FetchRegressionMetrics:     \n",
    "\n",
    "    regressionMetrics = RegressionMetrics()\n",
    "    \n",
    "    # parameterized constructor\n",
    "    def __init__(self, X_train,y_train,X_test,y_test,cross_validation_model):\n",
    "\n",
    "        self.cross_validation_model = cross_validation_model\n",
    "        \n",
    "        self.get_regression_metrics()\n",
    "        \n",
    "    def get_regression_metrics(self):\n",
    "        y_pred = self.cross_validation_model.predict(X_test)\n",
    "   \n",
    "        #We will calculate mean_squared_error value between y_test,y_pred.\n",
    "        RegressionMetrics.mse = np.sqrt(mean_squared_error(y_test,y_pred))\n",
    "        #We will calculate mean_absolute_error value between y_test,y_pred.\n",
    "        RegressionMetrics.mae = mean_absolute_error(y_test,y_pred)\n",
    "        #We will calculate root_mean_squared_error value between y_test,y_pred.\n",
    "        RegressionMetrics.rmse = np.sqrt(RegressionMetrics.mse)\n",
    "        #We will calculate r_score value between y_test,y_pred.\n",
    "        RegressionMetrics.r_score = round(self.cross_validation_model.score(X_train, y_train),2)\n",
    "        #We will calculate r2_score value between y_test,y_pred.\n",
    "        RegressionMetrics.r2_score = round(r2_score(y_test,y_pred),2)\n",
    "\n",
    "        RegressionMetrics.rmseper = (np.sqrt(np.mean(np.square((y_test - y_pred) / y_test)))) * 100\n",
    "\n",
    "        y_true, y_pred = np.array(y_test), np.array(y_pred)\n",
    "        RegressionMetrics.maeper = np.mean(np.abs((y_test - y_pred) / y_test)) * 100\n",
    "\n",
    "        RegressionMetrics.r2_adjusted = 1 - (1-self.cross_validation_model.score(X_train, y_train))*(len(y_train)-1)/(len(y_train)-X_train.shape[1]-1)         \n",
    " \n",
    "    def returnRegressionMetrics(self):\n",
    "        return self.regressionMetrics\n",
    " \n",
    "\n"
   ]
  },
  {
   "cell_type": "code",
   "execution_count": 99,
   "metadata": {},
   "outputs": [],
   "source": [
    "#Creating GridSearchCV_ForRegression_fit_models function to apply GridSearchCV algorithm.\n",
    "def GridSearchCV_ForRegression_fit_models(regression_model,params,X_train,y_train,X_test,y_test,appender_model):\n",
    "    #Now, Applying GridSearchCV. Assign retrieved parameter GridSearchCV parameters and fit train data.\n",
    "    cross_validation_model = GridSearchCV(estimator = regression_model,param_grid = params, cv=10,verbose=2,n_jobs=-1).fit(X_train,y_train)\n",
    "    #Printing best params for that GridSearchCV.\n",
    "    print('Best Params: ', cross_validation_model.best_params_)\n",
    "\n",
    "    #We predict X_test data.\n",
    "    #y_pred = cross_validation_model.predict(X_test)\n",
    "\n",
    "    fetchRegressionMetricsClass = FetchRegressionMetrics(X_train,y_train,X_test,y_test,cross_validation_model)\n",
    "    fetchRegressionMetrics = fetchRegressionMetricsClass.returnRegressionMetrics()\n",
    "\n",
    "     #We will calculate mean_squared_error value between y_test,y_pred.\n",
    "    mse = fetchRegressionMetrics.mse\n",
    "    #We will calculate mean_absolute_error value between y_test,y_pred.\n",
    "    mae = fetchRegressionMetrics.mae\n",
    "    #We will calculate root_mean_squared_error value between y_test,y_pred.\n",
    "    rmse =fetchRegressionMetrics.rmse\n",
    "    #We will calculate r_score value between y_test,y_pred.\n",
    "    r_score = fetchRegressionMetrics.r_score\n",
    "    #We will calculate r2_score value between y_test,y_pred.\n",
    "    _r2_score = fetchRegressionMetrics.r2_score\n",
    "    \n",
    "    rmseper = fetchRegressionMetrics.rmseper\n",
    "       \n",
    "    maeper = fetchRegressionMetrics.maeper\n",
    "    \n",
    "    r2_adjusted = fetchRegressionMetrics.r2_adjusted\n",
    "    \n",
    "    #To print all these values, Calling print_error_values function.\n",
    "    print_error_values(mse,mae,rmse, r_score ,_r2_score,rmseper,maeper,r2_adjusted)\n",
    "    \n",
    "    #We added these score values created array.\n",
    "    model_name_array.append(appender_model)\n",
    "    model_mean_squared_error_values_array.append(mse)\n",
    "    model_mean_absolute_error_values_array.append(mae)\n",
    "    model_root_mean_squared_error_values_array.append(rmse)\n",
    "    model_r2_score_values_array.append(_r2_score)\n",
    "    model_root_mean_squared_error_perc_values_array.append(rmseper)\n",
    "    model_mean_absolute_error_perc_values_array.append(maeper)\n",
    "    model_r2_score_perc_values_array.append(r2_adjusted)"
   ]
  },
  {
   "cell_type": "code",
   "execution_count": 100,
   "metadata": {},
   "outputs": [],
   "source": [
    "#Printing twenty fourth message as a h1 title in html code.\n",
    "#HTML('<h3>{}</h3>'.format(getMessageFromMessageCsv(59)))\n",
    "#printTitle(59)"
   ]
  },
  {
   "cell_type": "code",
   "execution_count": 101,
   "metadata": {},
   "outputs": [],
   "source": [
    "#Applying the linear Regression model.\n",
    "def linear_regression_function(X_train,y_train,X_test,y_test, test_size=0.33, random_state=0):    \n",
    "    \n",
    "    #Creating LinearRegression model.\n",
    "    linear_regression_model = LinearRegression()\n",
    "    #We will fit X_train and y_train.\n",
    "    linear_regression_model.fit(X_train, y_train)\n",
    "\n",
    "    #Printing linear regression model detail.\n",
    "    print(\"linear_regression_model model\",linear_regression_model)\n",
    "\n",
    "    #Finding R score for this linear regression using linear_regression_model.score(X_train, y_train).\n",
    "    #print(\"R score: {0}\".format(round(linear_regression_model.score(X_train, y_train),2)))\n",
    "    #Printing Intercept values to interpretation the regression.\n",
    "    print(\"Intercept: {0}\".format(round(linear_regression_model.intercept_),))\n",
    "    #Creating coefficient of regression and dataframe using X.columns,regression coefficient.\n",
    "    linear_regression_coefficients = pd.DataFrame({'feature':X.columns, 'coef':linear_regression_model.coef_})\n",
    "    #We sort values of regression coefficient.\n",
    "    linear_regression_coefficients.sort_values(by=['coef'],ascending=False)\n",
    "        \n",
    "    #Calling  function to calculate mean squared error.\n",
    "    print_mean_squared_error_values(linear_regression_model,X_test,y_test)\n",
    "    \n",
    "    #Parameters for GridSearchCV Linear Regression.\n",
    "    parameters = {'fit_intercept':[True,False], 'normalize':[True,False], 'copy_X':[True, False]}\n",
    "    \n",
    "    #Calling GridSearchCV_ForRegression_fit_models function.\n",
    "    GridSearchCV_ForRegression_fit_models(linear_regression_model,parameters,X_train,y_train,X_test,y_test,\"Linear Regression\")\n",
    "     \n",
    "    print(linear_regression_coefficients)"
   ]
  },
  {
   "cell_type": "code",
   "execution_count": 102,
   "metadata": {},
   "outputs": [],
   "source": [
    "#Calling the function that implements the linear regression model.\n",
    "def linear_regression_function_caller(): \n",
    "    #Creating chart to print twenty seventh message as a h1 title in html code.\n",
    "    printBoldTitle(28)\n",
    "    #Calling linear_regression_function().\n",
    "    linear_regression_function(X_train,y_train,X_test,y_test)"
   ]
  },
  {
   "cell_type": "code",
   "execution_count": 103,
   "metadata": {},
   "outputs": [],
   "source": [
    "#Create display_R2_score to display R2 Score Values of models.\n",
    "def display_R2_score(): \n",
    "    #assign model_name_array array to list_model_name_array_r2_score\n",
    "    list_model_name_array_r2_score = model_name_array\n",
    "    #assign model_r2_score_values_array array to list_model_r2_score_values_array_score\n",
    "    list_model_r2_score_values_array_score = model_r2_score_values_array\n",
    "    #Creating dataframe with list_model_name_array_r2_score and list_model_r2_score_values_array_score.\n",
    "    data_frame = pd.DataFrame({'list_model_name_array_r2_score':list_model_name_array_r2_score, 'list_model_r2_score_values_array_score':list_model_r2_score_values_array_score})\n",
    "    #Sorting dataframe created by R2 Score Values.\n",
    "    data_frame.sort_values(by = \"list_model_r2_score_values_array_score\",ascending=True,inplace=True)\n",
    "\n",
    "    #Set seaborn theme.\n",
    "    sns.set(style=\"darkgrid\",)\n",
    "    #Set create barplot.\n",
    "    ax = sns.barplot(x=\"list_model_r2_score_values_array_score\", y=\"list_model_name_array_r2_score\", data=data_frame)\n",
    "    #Set x axis label name.\n",
    "    plt.xlabel(\"Regresion Model r2 Score\")\n",
    "    #Set y axis label name.\n",
    "    plt.ylabel(\"Regresion Model Name\")\n",
    "    #Displaying plot with show() function.\n",
    "    plt.show()"
   ]
  },
  {
   "cell_type": "code",
   "execution_count": 104,
   "metadata": {},
   "outputs": [],
   "source": [
    "#Create display_mean_absolute_error_values to display Mean Absolute Error Values of models.\n",
    "def display_mean_absolute_error_values():\n",
    "    #assign model_name_array array to list_model_name_array_mae\n",
    "    list_model_name_array_mae = model_name_array\n",
    "    #assign model_mean_absolute_error_values_array array to list_model_mean_absolute_error_values_array\n",
    "    list_model_mean_absolute_error_values_array = model_mean_absolute_error_values_array\n",
    "    #Creating dataframe with list_model_name_array_mae and list_model_mean_absolute_error_values_array.\n",
    "    data_frame = pd.DataFrame({'list_model_name_array_mae':list_model_name_array_mae, 'list_model_mean_absolute_error_values_array':list_model_mean_absolute_error_values_array})\n",
    "    #Sorting dataframe created byMean Absolute Error Values.\n",
    "    data_frame.sort_values(by = \"list_model_mean_absolute_error_values_array\",ascending=True,inplace=True)\n",
    "\n",
    "    #Set seaborn theme.\n",
    "    sns.set(style=\"darkgrid\",)\n",
    "    #Set create barplot.\n",
    "    ax = sns.barplot(x=\"list_model_mean_absolute_error_values_array\", y=\"list_model_name_array_mae\", data=data_frame)\n",
    "    #Set x axis label name.\n",
    "    plt.xlabel(\"Regresion Model Mean Absolute Error\")\n",
    "    #Set y axis label name.\n",
    "    plt.ylabel(\"Regresion Model Name\")\n",
    "    #Displaying plot with show() function.\n",
    "    plt.show()"
   ]
  },
  {
   "cell_type": "code",
   "execution_count": 105,
   "metadata": {},
   "outputs": [],
   "source": [
    "#Create display_mean_squared_error_values to display Mean Squared Error Values of models.\n",
    "def display_mean_squared_error_values():\n",
    "    #assign model_name_array array to list_model_name_array_mse\n",
    "    list_model_name_array_mse = model_name_array\n",
    "    #assign model_mean_squared_error_values_array array to list_model_mean_squared_error_values_array\n",
    "    list_model_mean_squared_error_values_array = model_mean_squared_error_values_array\n",
    "    #Creating dataframe with list_model_name_array_mse and list_model_mean_squared_error_values_array.\n",
    "    data_frame = pd.DataFrame({'list_model_name_array_mse':list_model_name_array_mse, 'list_model_mean_squared_error_values_array':list_model_mean_squared_error_values_array})\n",
    "    #Sorting dataframe created by Mean Squared Error Values.\n",
    "    data_frame.sort_values(by = \"list_model_mean_squared_error_values_array\",ascending=True,inplace=True)\n",
    "\n",
    "    #Set seaborn theme.\n",
    "    sns.set(style=\"darkgrid\",)\n",
    "    #Set create barplot.\n",
    "    ax = sns.barplot(x=\"list_model_mean_squared_error_values_array\", y=\"list_model_name_array_mse\", data=data_frame)\n",
    "    #Set x axis label name.\n",
    "    plt.xlabel(\"Regresion Model Mean Squared Error\")\n",
    "    #Set y axis label name.\n",
    "    plt.ylabel(\"Regresion Model Name\")\n",
    "    #Displaying plot with show() function.\n",
    "    plt.show()"
   ]
  },
  {
   "cell_type": "code",
   "execution_count": 106,
   "metadata": {},
   "outputs": [],
   "source": [
    "#Create display_root_mean_squared_error_values to display Root Mean Squared Error Values of models.\n",
    "def display_root_mean_squared_error_values():\n",
    "    #assign model_name_array array to list_model_name_array_rmse\n",
    "    list_model_name_array_rmse = model_name_array\n",
    "    #assignmodel_root_mean_squared_error_values_array array to list_model_root_mean_squared_error_values_array\n",
    "    list_model_root_mean_squared_error_values_array = model_root_mean_squared_error_values_array\n",
    "    #Creating dataframe with list_model_name_array_rmse and list_model_root_mean_squared_error_values_array.\n",
    "    data_frame = pd.DataFrame({'list_model_name_array_rmse':list_model_name_array_rmse, 'list_model_root_mean_squared_error_values_array':list_model_root_mean_squared_error_values_array})\n",
    "    #Sorting dataframe created by Root Mean Squared Error Values.\n",
    "    data_frame.sort_values(by = \"list_model_root_mean_squared_error_values_array\",ascending=True,inplace=True)\n",
    "\n",
    "    #Set seaborn theme.\n",
    "    sns.set(style=\"darkgrid\",)\n",
    "    #Set create barplot.\n",
    "    ax = sns.barplot(x=\"list_model_root_mean_squared_error_values_array\", y=\"list_model_name_array_rmse\", data=data_frame)\n",
    "    #Set x axis label name.\n",
    "    plt.xlabel(\"Regresion Model Root Mean Squared Error\")\n",
    "    #Set y axis label name.\n",
    "    plt.ylabel(\"Regresion Model Name\")\n",
    "    #Displaying plot with show() function.\n",
    "    plt.show()"
   ]
  },
  {
   "cell_type": "code",
   "execution_count": 107,
   "metadata": {},
   "outputs": [],
   "source": [
    "#Calling the display functions on the chart.\n",
    "def displayer_regression():\n",
    "    #Creating chart to print fortieth message as a h1 title in html code.\n",
    "    \n",
    "    printTitle(41)\n",
    "    #Calling to display_R2_score function.\n",
    "    display_R2_score()\n",
    "    #Creating chart to print forty first message as a h1 title in html code.\n",
    "    \n",
    "    printTitle(42)\n",
    "    #Calling to display_mean_absolute_error_values function.\n",
    "    display_mean_absolute_error_values()\n",
    "    #Creating chart to print forty second message as a h1 title in html code.\n",
    "   \n",
    "    printTitle(43)\n",
    "    #Calling to display_mean_squared_error_values function.\n",
    "    display_mean_squared_error_values()\n",
    "    #Creating chart to print forty third message as a h1 title in html code.\n",
    "  \n",
    "    printTitle(44)\n",
    "    #Calling to display_root_mean_squared_error_values function.\n",
    "    display_root_mean_squared_error_values()"
   ]
  },
  {
   "cell_type": "code",
   "execution_count": 108,
   "metadata": {},
   "outputs": [],
   "source": [
    "#Calling Regression Functions to fit models.\n",
    "def runRegressionOnData():\n",
    "    #Calling linear_regression_function_caller function.\n",
    "    linear_regression_function_caller()    \n",
    "    #Calling displayer_regression function.\n",
    "    #displayer_regression()"
   ]
  },
  {
   "cell_type": "code",
   "execution_count": 109,
   "metadata": {},
   "outputs": [],
   "source": [
    "#Creating an array to compare model accuracy values.\n",
    "models_ = pd.DataFrame(columns=['Models', 'Accuracy'])"
   ]
  },
  {
   "cell_type": "code",
   "execution_count": 110,
   "metadata": {},
   "outputs": [],
   "source": [
    "#Observing the predicted values in the roc curve.\n",
    "def roc_values_displayer(model,y_test):\n",
    "    #Creating Compute Area Under the Receiver Operating Characteristic Curve value with y_test, X_test.\n",
    "    #ROC curve --> (receiver operating characteristic curve).\n",
    "    #AUC curve --> (Area under the ROC Curve).\n",
    "    logit_roc_auc = roc_auc_score(y_test,model.predict(X_test))\n",
    "    #Creating Compute Receiver operating characteristic value with y_test,X_test.\n",
    "    false_positive_rate,true_positive_rate,thresholds = roc_curve(y_test,model.predict_proba(X_test)[:,1])\n",
    "    #Creating plot figure.\n",
    "    plt.figure()\n",
    "    #Assigning plot parameter.\n",
    "    plt.plot(false_positive_rate,true_positive_rate,label=\"AUC (area = %0.3f)\" % logit_roc_auc , color=\"navy\")\n",
    "    #Editting plot.\n",
    "    plt.plot([0,1],[0,1],\"r--\")\n",
    "    #Setting xlim parameter of the plot.\n",
    "    plt.xlim([0.0,1.0])\n",
    "    #Setting ylim parameter of the plot.\n",
    "    plt.ylim([0.0,1.05])\n",
    "    #Setting title of the plot.\n",
    "    plt.title(\"Receiver operating characteristic\")\n",
    "    #Setting x axis label of the plot.\n",
    "    plt.xlabel(\"False Positive Rate\")\n",
    "    #Setting y axis label of the plot.\n",
    "    plt.ylabel(\"True Positive Rate\")\n",
    "    #Setting legend title of the plot.\n",
    "    plt.legend(loc=\"lower right\")\n",
    "    #Displaying plot with show() function.\n",
    "    plt.show()"
   ]
  },
  {
   "cell_type": "code",
   "execution_count": 111,
   "metadata": {},
   "outputs": [],
   "source": [
    "#We observe the predicted values on the confusion matrix.\n",
    "def confusion_matrix_values_displayer(confusion_matrix,score):\n",
    "    #score = round(accuracy_score(y_test, y_pred), 5)\n",
    "    #Setting plot figure size.\n",
    "    plt.figure(figsize=(8,4))\n",
    "    #Creating seaborn heatmap graph with some parameters.\n",
    "    sns.heatmap(confusion_matrix, annot=True, fmt=\".0f\")\n",
    "    #Setting x axis label of the plot.\n",
    "    plt.xlabel('Predicted Values')\n",
    "    #Setting y axis label of the plot.\n",
    "    plt.ylabel('Actual Values')\n",
    "    #Setting title of the plot.\n",
    "    plt.title('Accuracy Score: {0}'.format(score), size = 15)\n",
    "    #Displaying plot with show() function.\n",
    "    plt.show()"
   ]
  },
  {
   "cell_type": "code",
   "execution_count": 112,
   "metadata": {},
   "outputs": [],
   "source": [
    "#To print model score,best params,best estimator, that function was created.\n",
    "def print_model_details(model_name_array,best_score_,best_params_,best_estimator_):\n",
    "    #Printing best score of model.\n",
    "    print(\"{} best_score : {}\".format(model_name_array,best_score_))\n",
    "    #Printing best params of model.\n",
    "    print(\"{} best_params : {}\".format(model_name_array,best_params_))\n",
    "    #Printing best estimator of model.\n",
    "    print(\"{} best_estimator : {}\".format(model_name_array,best_estimator_))"
   ]
  },
  {
   "cell_type": "code",
   "execution_count": 113,
   "metadata": {},
   "outputs": [],
   "source": [
    "#To add model name and model score to models dataframe,it was created.\n",
    "def append_modelName_to_models(modelName,score):\n",
    "    #Created models_ variable to hold models_ that added classification model it.\n",
    "    global models_\n",
    "    #Adding created dataframe to models_ using modelName, and score.\n",
    "    models_ = models_.append( {'Models' : modelName , 'Accuracy' : score}, ignore_index=True,sort=False)"
   ]
  },
  {
   "cell_type": "code",
   "execution_count": 114,
   "metadata": {},
   "outputs": [],
   "source": [
    "class ClassficationMetrics:\n",
    "    TrueNegative = 0\n",
    "    FalsePositive = 0 \n",
    "    FalseNegative = 0\n",
    "    TruePositive = 0\n",
    "    Specificity = 0\n",
    "    Recall = 0\n",
    "    NPV = 0\n",
    "    Precision = 0\n",
    "    ClassficationMetrics = 0\n",
    "    F1Score = 0\n",
    "    MCC = 0\n",
    "    BalancedAccuracy = 0"
   ]
  },
  {
   "cell_type": "code",
   "execution_count": 115,
   "metadata": {},
   "outputs": [],
   "source": [
    "class FetchClassficationMetrics():    \n",
    "    \n",
    "    classficationMetrics = ClassficationMetrics()\n",
    "    \n",
    "    def __init__(self,y_test,y_pred,confusion_matrix):   \n",
    "        self.y_test = y_test\n",
    "        self.y_pred = y_pred\n",
    "        ravel_conf_matrix = confusion_matrix.ravel()\n",
    "        if len(ravel_conf_matrix)==4:            \n",
    "            self.TN,self.FP,self.FN,self.TP = ravel_conf_matrix\n",
    "            if self.TN!= 0 and self.FP != 0 and  self.FN != 0 and self.TP!= 0:\n",
    "                self.get_classfication_metricss()\n",
    "        \n",
    "    def get_classfication_metricss(self):\n",
    "        ClassficationMetrics.TrueNegative = self.TN\n",
    "        ClassficationMetrics.FalsePositive = self.FP\n",
    "        ClassficationMetrics.FalseNegative = self.FN\n",
    "        ClassficationMetrics.TruePositive = self.TP\n",
    "        ClassficationMetrics.Specificity = self.TN/(self.FP+self.TN)\n",
    "        ClassficationMetrics.Precision = self.TP/(self.TP+self.FP)\n",
    "        ClassficationMetrics.Recall = self.TP / (self.FN+self.TP)\n",
    "        ClassficationMetrics.F1Score = 2 * (ClassficationMetrics.Precision * ClassficationMetrics.Recall)/ (ClassficationMetrics.Precision + ClassficationMetrics.Recall)\n",
    "        ClassficationMetrics.Accuracy = accuracy_score(self.y_test, self.y_pred)\n",
    "        ClassficationMetrics.MCC = ((self.TP*self.TN)-(self.FP*self.FN))/( np.sqrt((self.TP+self.FP)*(self.TP+self.FN)*(self.TN+self.FP)*(self.TN+self.FN)) )\n",
    "        Sensitivity= self.TP / (self.TP + self.FN)\n",
    "        ClassficationMetrics.BalancedAccuracy = ( Sensitivity+  ClassficationMetrics.Specificity)/2\n",
    "        self.printRegressionMetrics()\n",
    "\n",
    "    def returnClassficationMetrics(self):\n",
    "        return self.classficationMetrics\n",
    "    \n",
    "    def printRegressionMetrics(self):\n",
    "        print(\"TrueNegative\",ClassficationMetrics.TrueNegative)\n",
    "        print(\"FalsePositive\",ClassficationMetrics.FalsePositive)\n",
    "        print(\"FalseNegative\",ClassficationMetrics.FalseNegative)\n",
    "        print(\"TruePositive\",ClassficationMetrics.TruePositive)\n",
    "        print(\"Specificity\",ClassficationMetrics.Specificity)\n",
    "        print(\"Precision\",ClassficationMetrics.Precision)\n",
    "        print(\"Recall\",ClassficationMetrics.Recall)\n",
    "        print(\"F1Score\",ClassficationMetrics.F1Score)\n",
    "        print(\"Accuracy\",ClassficationMetrics.Accuracy)\n",
    "        print(\"MCC\",ClassficationMetrics.MCC)\n",
    "        print(\"BalancedAccuracy\",ClassficationMetrics.BalancedAccuracy)"
   ]
  },
  {
   "cell_type": "code",
   "execution_count": 116,
   "metadata": {},
   "outputs": [],
   "source": [
    "#Creating GridSearchCV_ForClassification_fit_models function to apply GridSearchCV algorithm for classification.\n",
    "def GridSearchCV_ForClassification_fit_models(classifier,param,X_train,y_train,X_test,y_test,model_cv_name,appender_model):\n",
    "    #Now, Applying GridSearchCV. Assign retrieved parameter GridSearchCV parameters and fit train data.\n",
    "    cross_validation_models = GridSearchCV(classifier,param,cv = StratifiedKFold(n_splits = 10), scoring = \"accuracy\",n_jobs=-1,verbose=2).fit(X_train,y_train)\n",
    "    \n",
    "    #Calling print_model_details function to print details.\n",
    "    print_model_details(\"model_cv_name: \",cross_validation_models.best_score_,cross_validation_models.best_params_,cross_validation_models.best_estimator_)\n",
    "\n",
    "    #Predicting X_test data.\n",
    "    y_pred = cross_validation_models.predict(X_test)\n",
    "\n",
    "    #Finding accuracy_score with y_test,y_pred.\n",
    "    score = round(accuracy_score(y_test, y_pred), 5)\n",
    "    #Printing accuracy_score value.\n",
    "    print(\"accuracy_score\",score)\n",
    "    \n",
    "    #Calling append_modelName_to_models sending appender_model and score.\n",
    "    append_modelName_to_models(appender_model,score)\n",
    "    \n",
    "    #This function are Returning fitted Grid Search CV model.\n",
    "    return cross_validation_models"
   ]
  },
  {
   "cell_type": "code",
   "execution_count": 117,
   "metadata": {},
   "outputs": [],
   "source": [
    "#Created this function to print details and display plots.\n",
    "def print_report_for_classifier(X_test,y_test,classifier):\n",
    "    #Applying predict to X_test and hold in y_pred.\n",
    "    y_pred = classifier.predict(X_test)\n",
    "    \n",
    "    #Creating confusion matrix y_test and y_pred.\n",
    "    confusion_matrix = cm(y_test,y_pred)\n",
    "    #Printing confusion matrix values.\n",
    "    print(confusion_matrix)\n",
    "        \n",
    "    fetchClassficationMetrics = FetchClassficationMetrics(y_test,y_pred,confusion_matrix)\n",
    "    \n",
    "    #Finding accuracy_score of model.\n",
    "    score = round(accuracy_score(y_test, y_pred), 5)\n",
    "    #Printing accuracy_score.\n",
    "    print(\"accuracy_score\",score)\n",
    "\n",
    "    #Calling confusion_matrix_values_displayer to display confusion matrix values.\n",
    "    confusion_matrix_values_displayer(confusion_matrix,score)\n",
    "\n",
    "    #Printing classification_report of modelsç\n",
    "    print(classification_report(y_test,y_pred))\n",
    "\n",
    "    #Calling confusion_matrix_values_displayer to display ROC curve values.\n",
    "    if len(confusion_matrix.ravel())==4:\n",
    "        roc_values_displayer(classifier,y_test)"
   ]
  },
  {
   "cell_type": "code",
   "execution_count": 118,
   "metadata": {},
   "outputs": [],
   "source": [
    "#Applying Decision Tree CLassification model.\n",
    "from sklearn import tree\n",
    "def decision_tree_classification_function():\n",
    "    \n",
    "    #Creating Decision Tree CLassification model. We will fit X_train and y_train.   \n",
    "    decision_tree_classification_model = DecisionTreeClassifier().fit(X_train,y_train)\n",
    "    #Printing Decision Tree CLassification model detail. \n",
    "    print(\"decision_tree_regression_model\",decision_tree_classification_model)\n",
    "    \n",
    "    #Calling print_report_for_classifier function to display model details on graph.\n",
    "    print_report_for_classifier(X_test,y_test,decision_tree_classification_model)\n",
    "\n",
    "    #Creating Decision Tree CLassification model.\n",
    "    #decision_tree_classification_model = DecisionTreeClassifier()\n",
    "\n",
    "    #Parameters for GridSearchCV on Decision Tree CLassification model.    \n",
    "    decision_tree_classification_model_params = {\"max_depth\":[1,3,5,8,10],\n",
    "                    \"min_samples_split\":[2,3,5,10,20,50]}\n",
    "\n",
    "    #Calling GridSearchCV_ForClassification_fit_models function.\n",
    "    GridSearchCV_ForClassification_fit_models(decision_tree_classification_model,decision_tree_classification_model_params,X_train,y_train,X_test,y_test,\"cart_cross_validation_model\",\"Decision Tree CLassification\")    \n",
    "    #tree.plot_tree(decision_tree_classification_model)\n",
    "    print(\"\\nDecision tree rules\\n\")\n",
    "    fig = plt.figure(figsize=(25,20))\n",
    "    _ = tree.plot_tree(decision_tree_classification_model, \n",
    "                   filled=True)"
   ]
  },
  {
   "cell_type": "code",
   "execution_count": 119,
   "metadata": {},
   "outputs": [],
   "source": [
    "#Calling the function that implements the Decision Tree CLassification model.\n",
    "def decision_tree_classification_function_caller(): \n",
    "    #Creating chart to print forty eighth message as a h1 title in html code.\n",
    "           \n",
    "    printTitle(49)\n",
    "    #Calling decision_tree_classification_function().\n",
    "    decision_tree_classification_function()"
   ]
  },
  {
   "cell_type": "code",
   "execution_count": 120,
   "metadata": {},
   "outputs": [],
   "source": [
    "#Comparing the accuracy values of Classification models.\n",
    "def comparing_accuracy_classification_models():\n",
    "    #Setting plot figure size.\n",
    "    plt.figure(figsize=(8,6))\n",
    "    #Creating set bar plot with parameters.\n",
    "    sns.barplot(x=\"Accuracy\",y = \"Models\",data = models_)\n",
    "    #Setting x axis label name.\n",
    "    plt.xlabel(\"Accuracy(%)\")\n",
    "    #Setting plot title.\n",
    "    plt.title(\"Accuracy Rates of Models\")"
   ]
  },
  {
   "cell_type": "code",
   "execution_count": 121,
   "metadata": {},
   "outputs": [],
   "source": [
    "#Calling the function that performs the predict operation.\n",
    "def comparing_accuracy_classification_models_displayer():\n",
    "    #Creating chart to print fifty fourth message as a h1 title in html code.\n",
    "   \n",
    "    printTitle(55)\n",
    "    #Calling Displayer().\n",
    "    comparing_accuracy_classification_models()"
   ]
  },
  {
   "cell_type": "code",
   "execution_count": 122,
   "metadata": {},
   "outputs": [],
   "source": [
    "#Calling the Classification functions.\n",
    "def runClassificationOnData():   \n",
    "    #Calling decision_tree_classification_function_caller that performs that classification.\n",
    "    decision_tree_classification_function_caller()    \n",
    "    #Calling DisplayerClassifier that perform predictins.\n",
    "    #comparing_accuracy_classification_models_displayer()"
   ]
  },
  {
   "cell_type": "code",
   "execution_count": 123,
   "metadata": {},
   "outputs": [
    {
     "name": "stdout",
     "output_type": "stream",
     "text": [
      "Decision Tree Classification\n",
      "decision_tree_regression_model DecisionTreeClassifier(ccp_alpha=0.0, class_weight=None, criterion='gini',\n",
      "                       max_depth=None, max_features=None, max_leaf_nodes=None,\n",
      "                       min_impurity_decrease=0.0, min_impurity_split=None,\n",
      "                       min_samples_leaf=1, min_samples_split=2,\n",
      "                       min_weight_fraction_leaf=0.0, presort='deprecated',\n",
      "                       random_state=None, splitter='best')\n",
      "[[15  0  0]\n",
      " [ 0 11  0]\n",
      " [ 0  0 12]]\n",
      "accuracy_score 1.0\n"
     ]
    },
    {
     "data": {
      "image/png": "[encoded data removed]",
      "text/plain": [
       "<Figure size 576x288 with 2 Axes>"
      ]
     },
     "metadata": {},
     "output_type": "display_data"
    },
    {
     "name": "stdout",
     "output_type": "stream",
     "text": [
      "              precision    recall  f1-score   support\n",
      "\n",
      "           0       1.00      1.00      1.00        15\n",
      "           1       1.00      1.00      1.00        11\n",
      "           2       1.00      1.00      1.00        12\n",
      "\n",
      "    accuracy                           1.00        38\n",
      "   macro avg       1.00      1.00      1.00        38\n",
      "weighted avg       1.00      1.00      1.00        38\n",
      "\n",
      "Fitting 10 folds for each of 30 candidates, totalling 300 fits\n"
     ]
    },
    {
     "name": "stderr",
     "output_type": "stream",
     "text": [
      "[Parallel(n_jobs=-1)]: Using backend LokyBackend with 8 concurrent workers.\n",
      "[Parallel(n_jobs=-1)]: Done  25 tasks      | elapsed:    3.9s\n",
      "[Parallel(n_jobs=-1)]: Done 300 out of 300 | elapsed:    4.6s finished\n"
     ]
    },
    {
     "name": "stdout",
     "output_type": "stream",
     "text": [
      "model_cv_name:  best_score : 0.9371212121212119\n",
      "model_cv_name:  best_params : {'max_depth': 3, 'min_samples_split': 10}\n",
      "model_cv_name:  best_estimator : DecisionTreeClassifier(ccp_alpha=0.0, class_weight=None, criterion='gini',\n",
      "                       max_depth=3, max_features=None, max_leaf_nodes=None,\n",
      "                       min_impurity_decrease=0.0, min_impurity_split=None,\n",
      "                       min_samples_leaf=1, min_samples_split=10,\n",
      "                       min_weight_fraction_leaf=0.0, presort='deprecated',\n",
      "                       random_state=None, splitter='best')\n",
      "accuracy_score 1.0\n",
      "\n",
      "Decision tree rules\n",
      "\n"
     ]
    },
    {
     "data": {
      "image/png": "[encoded data removed]",
      "text/plain": [
       "<Figure size 1800x1440 with 1 Axes>"
      ]
     },
     "metadata": {},
     "output_type": "display_data"
    }
   ],
   "source": [
    "#Running regression and classification models.\n",
    "#Here, we are calling the functions created above with a single function.\n",
    "if data[response_attributes].name in nominal_attributes:\n",
    "    #if response_attributes is within nominal_attributes(i.e:category), call classification(RunClassifier), \n",
    "    runClassificationOnData()\n",
    "else:\n",
    "    #otherwise call regression(runRegressionOnData).\n",
    "    runRegressionOnData()"
   ]
  },
  {
   "cell_type": "code",
   "execution_count": 124,
   "metadata": {},
   "outputs": [
    {
     "data": {
      "text/plain": [
       "0"
      ]
     },
     "execution_count": 124,
     "metadata": {},
     "output_type": "execute_result"
    }
   ],
   "source": [
    "#Importing os library.\n",
    "import os\n",
    "#this line create html data excluding input.\n",
    "os.system('jupyter nbconvert --to pdf Data_Analysis.ipynb --no-input')"
   ]
  }
 ],
 "metadata": {
  "kernelspec": {
   "display_name": "Python 3",
   "language": "python",
   "name": "python3"
  },
  "language_info": {
   "codemirror_mode": {
    "name": "ipython",
    "version": 3
   },
   "file_extension": ".py",
   "mimetype": "text/x-python",
   "name": "python",
   "nbconvert_exporter": "python",
   "pygments_lexer": "ipython3",
   "version": "3.7.6"
  }
 },
 "nbformat": 4,
 "nbformat_minor": 2
}
